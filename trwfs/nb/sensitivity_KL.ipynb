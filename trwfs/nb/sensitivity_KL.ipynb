{
 "cells": [
  {
   "cell_type": "markdown",
   "metadata": {},
   "source": [
    "# Getting the sensitivity of the PWFS system with KL modes\n",
    "\n",
    "\n",
    "The objective is to compare the sensitivity of unmodulated, modulated and 2 flavors of \"Time-Resolved\" modulated TRWFSs. More specifically, we are using the sensitivity to KL modes.\n",
    "\n",
    "\n",
    "We start by initializing the system with OOPAO"
   ]
  },
  {
   "cell_type": "code",
   "execution_count": 1,
   "metadata": {
    "ExecuteTime": {
     "end_time": "2024-01-30T15:05:29.045967417Z",
     "start_time": "2024-01-30T15:04:56.367699320Z"
    }
   },
   "outputs": [
    {
     "name": "stdout",
     "output_type": "stream",
     "text": [
      "\n",
      "\n",
      "==================================\n",
      "     °          *      *      \n",
      " ▄██▄   ▄██▄  ▄███▄   ▄██▄ * ▄██▄ \n",
      "██* ██ ██  ██ ██  ██ ██  ██ ██  ██\n",
      "██  ██ ██° ██ ██  ██ ██* ██ ██  ██\n",
      "██  ██ ██  ██ ████▀  ██▄▄██ ██  ██\n",
      "██* ██ ██  ██ ██     ██▀▀██ ██  ██\n",
      "██  ██ ██  ██ ██ *   ██  ██ ██* ██\n",
      " ▀██▀   ▀██▀  ██   ° ██  ██  ▀██▀ \n",
      "      *         *             \n",
      "==================================\n",
      "\n",
      "\n",
      "Reading/Writting calibration data from data_calibration/\n",
      "Writting output data in data_cl/\n",
      "%%%%%%%%%%%%%%%%%%%%%%%%%%%%%% TELESCOPE %%%%%%%%%%%%%%%%%%%%%%%%%%%%%%\n",
      "     Diameter             24               [m]        \n",
      "    Resolution           120             [pixels]     \n",
      "    Pixel Size           0.2               [m]        \n",
      "     Surface            452.0              [m2]       \n",
      "Central Obstruction        0          [% of diameter]  \n",
      "Pixels in the pupil      11304            [pixels]     \n",
      "      Source             None                         \n",
      "%%%%%%%%%%%%%%%%%%%%%%%%%%%%%%%%%%%%%%%%%%%%%%%%%%%%%%%%%%%%%%%%%%%%%%%%%\n",
      "No light propagated through the telescope\n",
      "%%%%%%%%%%%%%%%%%%%%%%%%%%%%% SOURCE %%%%%%%%%%%%%%%%%%%%%%%%%%%%%%\n",
      " Source Wavelength Zenith  Azimuth   Altitude Magnitude    Flux   \n",
      "           [m]    [arcsec]  [deg]      [m]              [phot/m2/s]\n",
      "-------------------------------------------------------------------\n",
      "  NGS    7.9e-07     0        0        inf       1.0    2920895001.3\n",
      "%%%%%%%%%%%%%%%%%%%%%%%%%%%%%%%%%%%%%%%%%%%%%%%%%%%%%%%%%%%%%%%%%%%\n",
      "Creation of layer1/5 ...\n",
      "-> Computing the initial phase screen...\n",
      "initial phase screen : 0.009537696838378906 s\n",
      "ZZt.. : 1.363250970840454 s\n",
      "ZXt.. : 0.3352944850921631 s\n",
      "XXt.. : 0.12568211555480957 s\n",
      "Done!\n",
      "Creation of layer2/5 ...\n",
      "-> Computing the initial phase screen...\n",
      "initial phase screen : 0.02277970314025879 s\n",
      "ZZt.. : 1.1920928955078125e-06 s\n",
      "ZXt.. : 1.7404556274414062e-05 s\n",
      "XXt.. : 6.9141387939453125e-06 s\n",
      "SCAO system considered: covariance matrices were already computed!\n",
      "Done!\n",
      "Creation of layer3/5 ...\n",
      "-> Computing the initial phase screen...\n",
      "initial phase screen : 0.01359701156616211 s\n",
      "ZZt.. : 4.76837158203125e-07 s\n",
      "ZXt.. : 1.2636184692382812e-05 s\n",
      "XXt.. : 4.76837158203125e-06 s\n",
      "SCAO system considered: covariance matrices were already computed!\n",
      "Done!\n",
      "Creation of layer4/5 ...\n",
      "-> Computing the initial phase screen...\n",
      "initial phase screen : 0.014662742614746094 s\n",
      "ZZt.. : 7.152557373046875e-07 s\n",
      "ZXt.. : 1.3113021850585938e-05 s\n",
      "XXt.. : 5.4836273193359375e-06 s\n",
      "SCAO system considered: covariance matrices were already computed!\n",
      "Done!\n",
      "Creation of layer5/5 ...\n",
      "-> Computing the initial phase screen...\n",
      "initial phase screen : 0.014465808868408203 s\n",
      "ZZt.. : 7.152557373046875e-07 s\n",
      "ZXt.. : 1.33514404296875e-05 s\n",
      "XXt.. : 4.291534423828125e-06 s\n",
      "SCAO system considered: covariance matrices were already computed!\n",
      "Done!\n",
      "%%%%%%%%%%%%%%%%%%%%%%%%%%%%% ATMOSPHERE %%%%%%%%%%%%%%%%%%%%%%%%%%%%%\n",
      "   Layer     Direction     Speed      Altitude      Cn2     \n",
      "               [deg]       [m/s]        [m]       [m-2/3]   \n",
      "----------------------------------------------------------------------\n",
      "     1           0           10         100         0.2     \n",
      "------------------------------------------------------------------\n",
      "     2           72          10         100         0.2     \n",
      "------------------------------------------------------------------\n",
      "     3          144          10         100         0.2     \n",
      "------------------------------------------------------------------\n",
      "     4          216          10         100         0.2     \n",
      "------------------------------------------------------------------\n",
      "     5          288          10         100         0.2     \n",
      "------------------------------------------------------------------\n",
      "    r0 @500 nm        0.186 [m]     \n",
      "        L0              30 [m]      \n",
      "  Seeing @500nm        0.55 [\"]     \n",
      "    Frequency        1000.0 [Hz]    \n",
      "%%%%%%%%%%%%%%%%%%%%%%%%%%%%%%%%%%%%%%%%%%%%%%%%%%%%%%%%%%%%%%%%%%%%%%%\n",
      "No coordinates loaded.. taking the cartesian geometry as a default\n",
      "Generating a Deformable Mirror: \n",
      "Computing the 2D zonal modes...\n",
      "%%%%%%%%%%%%%%%%%%%%%%%%%%%%%% DEFORMABLE MIRROR %%%%%%%%%%%%%%%%%%%%%%%%%%%%%%\n",
      "Controlled Actuators        777        \n",
      "         M4                False       \n",
      "        Pitch               0.8               [m]        \n",
      " Mechanical Coupling        0.45              [%]        \n",
      "-------------------------------------------------------------------------------\n",
      "Mis-registration:\n",
      "Rotation [deg]\tShift X [m]\tShift Y [m]\tRadial Scaling [%]\tTangential Scaling [%]\n",
      "      0       \t     0     \t     0     \t        0         \t          0           \n",
      "%%%%%%%%%%%%%%%%%%%%%%%%%%%%%%%%%%%%%%%%%%%%%%%%%%%%%%%%%%%%%%%%%%%%%%%%%%%%%%%\n",
      "TIME ELAPSED: 3 sec. COMPLETED: 100 %\n",
      "776  \r 260  262  264  266  268  270  272  274  276  278  280  282  284  286  288  290  292  294  296  298  300  302  304  306  308  310  312  314  316  318  320  322  324  326  328  330  332  334  336  338  340  342  344  346  348  350  352  354  356  358  360  362  364  366  368  370  372  374  376  378  380  382  384  386  388  390  392  394  396  398  400  402  404  406  408  410  412  414  416  418  420  422  424  426  428  430  432  434  436  438  440  442  444  446  448  450  452  454  456  458  460  462  464  466  468  470  472  474  476  478  480  482  484  486  488  490  492  494  496  498  500  502  504  506  508  510  512  514  516  518  520  522  524  526  528  530  532  534  536  538    541  543  545  547  549  551  553  555  557  559  561  563  565  567  569  571  573  575  577  579  581  583  585  587  589  591  593  595  597  599  601  603  605  607  609  611  613  615  617  619  621  623  625  627  629  631  633  635  637  639  641  643  645  647  649  651  653  655  657  659  661  663  665  667  669  671  673  675  677  679  681  683  685  687  689  691  693  695  697  699  701  703  705  707  709  711  713  715  717  719  721  723  725  727  729  731  733  735  737  739  741  743  745  747  749  751  753  755  757  759  761  763  765  767  769  771  773  775  NMAX =  659\n",
      "RMS opd error = [[8.71507273e-09 1.31682836e-08 1.31682836e-08]]\n",
      "RMS Positions = [[5.51318331e-08 2.99749968e-07 2.99749968e-07]]\n",
      "MAX Positions = [[4.55944285e-07 8.16479154e-07 8.16479154e-07]]\n",
      "WARNING: Number of modes requested too high, taking the maximum value possible!\n",
      "KL WITH DOUBLE DIAGONALISATION: COVARIANCE ERROR =  4.54612635450894e-14\n",
      "Pyramid Mask initialization...\n",
      "Selection of the valid pixels...\n",
      "The valid pixel are selected on flux considerations\n",
      "Acquisition of the reference slopes and units calibration...\n",
      "WFS calibrated!\n",
      "%%%%%%%%%%%%%%%%%%%%%%%%%%%%%% PYRAMID WFS %%%%%%%%%%%%%%%%%%%%%%%%%%%%%%\n",
      " Pupils Diameter          30             [pixels]     \n",
      "Pupils Separation         4              [pixels]     \n",
      "       FoV               0.81            [arcsec]     \n",
      "  TT Modulation           3             [lamda/D]     \n",
      "PSF Core Sampling         1             [pixel(s)]    \n",
      "   Valid Pixels          3088           [pixel(s)]    \n",
      "Signal Computation    fullFrame     \n",
      "%%%%%%%%%%%%%%%%%%%%%%%%%%%%%%%%%%%%%%%%%%%%%%%%%%%%%%%%%%%%%%%%%%%%%%%%%\n"
     ]
    }
   ],
   "source": [
    "import matplotlib.pyplot as plt\n",
    "import numpy as np\n",
    "import pandas as pd\n",
    "\n",
    "from OOPAO.calibration.compute_KL_modal_basis import compute_M2C, compute_KL_basis\n",
    "\n",
    "from trwfs.tools.PWFS_CMOS_NOISE_PROOF_may2022_tools import *\n",
    "from tqdm import trange\n",
    "from OOPAO.TR_Pyramid import TR_Pyramid\n",
    "from pypet import Environment, cartesian_product\n",
    "from trwfs.parameter_files.parameterFile_CMOS_PWFS_aug2022_3 import initializeParameterFile\n",
    "from OOPAO.tools.displayTools           import displayMap\n",
    "\n",
    "param = initializeParameterFile()\n",
    "\n",
    "param['modulation'] = 3\n",
    "\n",
    "# %% -----------------------     TELESCOPE   ----------------------------------\n",
    "\n",
    "# create the Telescope object\n",
    "tel = Telescope(resolution=param['resolution'], \\\n",
    "                diameter=param['diameter'], \\\n",
    "                samplingTime=param['samplingTime'], \\\n",
    "                centralObstruction=param['centralObstruction'])\n",
    "\n",
    "# %% -----------------------     NGS   ----------------------------------\n",
    "# create the Source object\n",
    "ngs = Source(optBand=param['opticalBand'], \\\n",
    "             magnitude=1.0)\n",
    "\n",
    "# combine the NGS to the telescope using '*' operator:\n",
    "ngs * tel\n",
    "\n",
    "tel.computePSF(zeroPaddingFactor=6)\n",
    "\n",
    "# %% -----------------------     ATMOSPHERE   ----------------------------------\n",
    "\n",
    "# create the Atmosphere object\n",
    "atm = Atmosphere(telescope=tel, \\\n",
    "                 r0=param['r0'], \\\n",
    "                 L0=param['L0'], \\\n",
    "                 windSpeed=param['windSpeed'], \\\n",
    "                 fractionalR0=param['fractionnalR0'], \\\n",
    "                 windDirection=param['windDirection'], \\\n",
    "                 altitude=param['altitude'])\n",
    "\n",
    "# initialize atmosphere\n",
    "atm.initializeAtmosphere(tel)\n",
    "#\n",
    "# self.atm.update()\n",
    "#\n",
    "# self.tel + self.atm\n",
    "# self.tel.computePSF(8)\n",
    "\n",
    "# %% -----------------------     DEFORMABLE MIRROR   ----------------------------------\n",
    "# mis-registrations object\n",
    "misReg = MisRegistration(param)\n",
    "# if no coordonates specified, create a cartesian dm\n",
    "\n",
    "dm = DeformableMirror(telescope=tel, \\\n",
    "                      nSubap=param['nSubaperture'], \\\n",
    "                      mechCoupling=param['mechanicalCoupling'], \\\n",
    "                      misReg=misReg)\n",
    "\n",
    "\n",
    "# M2C_KL = compute_M2C(telescope            = tel, \\\n",
    "#                      atmosphere         = atm, \\\n",
    "#                      deformableMirror   = dm, \\\n",
    "#                      param              = None, \\\n",
    "#                      nameFolder         = None, \\\n",
    "#                      nameFile           = None, \\\n",
    "#                      remove_piston      = True, \\\n",
    "#                      HHtName            = None, \\\n",
    "#                      baseName           = None , \\\n",
    "#                      mem_available      = 1e9, \\\n",
    "#                      minimF             = False, \\\n",
    "#                      nmo                = None, \\\n",
    "#                      ortho_spm          = True, \\\n",
    "#                      SZ                 = np.int64(2*tel.OPD.shape[0]), \\\n",
    "#                      nZer               = 3, \\\n",
    "#                      NDIVL              = 1, \\\n",
    "#                      recompute_cov=True, \\\n",
    "#                      save_output= False)\n",
    "\n",
    "M2C_KL = compute_KL_basis(tel, atm, dm)\n",
    "\n",
    "\n",
    "wfs = TR_Pyramid(nSubap=param['nSubaperture'], \\\n",
    "                 telescope=tel, \\\n",
    "                 modulation=param['modulation'], \\\n",
    "                 lightRatio=param['lightThreshold'], \\\n",
    "                 n_pix_separation=4,\n",
    "                 calibModulation=param['calibrationModulation'], \\\n",
    "                 psfCentering=param['psfCentering'], \\\n",
    "                 n_pix_edge=2,\n",
    "                 extraModulationFactor=param['extraModulationFactor'], \\\n",
    "                 postProcessing=param['postProcessing'],\n",
    "                 nTheta_user_defined = param['nTheta_user_defined'])\n"
   ]
  },
  {
   "cell_type": "markdown",
   "metadata": {},
   "source": [
    "# Getting the OPD of the first 10 KL modes"
   ]
  },
  {
   "cell_type": "code",
   "execution_count": 2,
   "metadata": {
    "ExecuteTime": {
     "end_time": "2024-01-30T15:05:31.145614634Z",
     "start_time": "2024-01-30T15:05:29.051109420Z"
    }
   },
   "outputs": [
    {
     "name": "stderr",
     "output_type": "stream",
     "text": [
      "findfont: Font family ['normal'] not found. Falling back to DejaVu Sans.\n",
      "findfont: Font family ['normal'] not found. Falling back to DejaVu Sans.\n"
     ]
    },
    {
     "data": {
      "text/plain": "<Figure size 432x288 with 2 Axes>",
      "image/png": "[encoded data removed]"
     },
     "metadata": {
      "needs_background": "light"
     },
     "output_type": "display_data"
    }
   ],
   "source": [
    "dm.coefs = M2C_KL[:, 0:10] * 1e-9\n",
    "tel * dm * wfs\n",
    "displayMap(tel.OPD)"
   ]
  },
  {
   "cell_type": "markdown",
   "metadata": {},
   "source": [
    "# Getting the reference image to see if all 4 quadrants are equal"
   ]
  },
  {
   "cell_type": "code",
   "execution_count": 3,
   "metadata": {
    "ExecuteTime": {
     "end_time": "2024-01-30T15:05:31.764376427Z",
     "start_time": "2024-01-30T15:05:31.147293342Z"
    }
   },
   "outputs": [
    {
     "name": "stdout",
     "output_type": "stream",
     "text": [
      "Updating the reference slopes and Wavelength Calibration for the new modulation...\n",
      "Done!\n"
     ]
    },
    {
     "data": {
      "text/plain": "<Figure size 432x288 with 2 Axes>",
      "image/png": "[encoded data removed]"
     },
     "metadata": {
      "needs_background": "light"
     },
     "output_type": "display_data"
    }
   ],
   "source": [
    "dm.coefs = 0\n",
    "wfs.modulation = param[\"modulation\"]\n",
    "tel * dm * wfs\n",
    "im = plt.imshow(wfs.referenceSignal_2D)\n",
    "im1_cbar = plt.colorbar(im)"
   ]
  },
  {
   "cell_type": "markdown",
   "metadata": {},
   "source": [
    "Get the \"Valid\" pixels to use going forward. The other pixels dont receive enought photons."
   ]
  },
  {
   "cell_type": "code",
   "execution_count": 4,
   "metadata": {
    "ExecuteTime": {
     "end_time": "2024-01-30T15:05:31.982829157Z",
     "start_time": "2024-01-30T15:05:31.786457917Z"
    }
   },
   "outputs": [
    {
     "data": {
      "text/plain": "<Figure size 432x288 with 2 Axes>",
      "image/png": "[encoded data removed]"
     },
     "metadata": {
      "needs_background": "light"
     },
     "output_type": "display_data"
    }
   ],
   "source": [
    "im_validSignal = plt.imshow(wfs.validSignal)\n",
    "im_validSignal_cbar = plt.colorbar(im_validSignal)"
   ]
  },
  {
   "cell_type": "markdown",
   "metadata": {},
   "source": [
    "# Calculating the weights of each frame along the modulation for the first 50 KL modes"
   ]
  },
  {
   "cell_type": "code",
   "execution_count": 5,
   "metadata": {
    "ExecuteTime": {
     "end_time": "2024-01-30T15:05:50.115642607Z",
     "start_time": "2024-01-30T15:05:31.989256896Z"
    }
   },
   "outputs": [
    {
     "name": "stdout",
     "output_type": "stream",
     "text": [
      "Telescope and Atmosphere separated!\n",
      "using 50 modes\n",
      "Updating the reference slopes and Wavelength Calibration for the new modulation...\n",
      "Done!\n"
     ]
    },
    {
     "name": "stderr",
     "output_type": "stream",
     "text": [
      "findfont: Font family ['normal'] not found. Falling back to DejaVu Sans.\n",
      "findfont: Font family ['normal'] not found. Falling back to DejaVu Sans.\n"
     ]
    },
    {
     "name": "stdout",
     "output_type": "stream",
     "text": [
      "[ 3.25643312  3.25643312 10.62894018 17.81773509 20.62948635 12.65296962\n",
      " 12.65384359 17.37284243 17.37249332 13.34855107 24.3827059  24.64556212\n",
      " 26.99758415 36.43343451 15.96266089 15.96288912 28.83731808 28.83612576\n",
      " 27.7712423  27.77116482 37.18943181 21.12384038 39.06413271 30.53576974\n",
      " 29.43912118 29.43948291 37.52458728 41.40476362 38.75753697 34.43799491\n",
      " 34.4381967  42.45673469 37.02501906 35.83954815 35.83880788 27.95092273\n",
      " 27.9508374  39.51272317 39.51293246 38.27224828 39.86609058 40.74846148\n",
      " 34.15381319 39.88685373 40.96672479 38.25705555 42.13382171 41.54472311\n",
      " 36.38285052 36.38286895]\n",
      "[30.2843822  32.25150385 35.18405026 30.81896369 28.42054362 28.26025501\n",
      " 28.23539334 28.27371085 28.47668548 30.87401186 35.26351599 32.31431021\n",
      " 30.28432425 32.2513935  35.18396052 30.81892076 28.42049186 28.26023932\n",
      " 28.23536714 28.27366662 28.4766796  30.87399039 35.26349052 32.31430473\n",
      " 30.2843822  32.25150385 35.18405026 30.81896369 28.42054362 28.26025501\n",
      " 28.23539334 28.27371085 28.47668548 30.87401186 35.26351599 32.31431021\n",
      " 30.28432425 32.2513935  35.18396052 30.81892076 28.42049186 28.26023932\n",
      " 28.23536714 28.27366662 28.4766796  30.87399039 35.26349052 32.31430473]\n"
     ]
    },
    {
     "data": {
      "text/plain": "<Figure size 432x288 with 2 Axes>",
      "image/png": "[encoded data removed]"
     },
     "metadata": {
      "needs_background": "light"
     },
     "output_type": "display_data"
    },
    {
     "data": {
      "text/plain": "<Figure size 432x288 with 0 Axes>"
     },
     "metadata": {},
     "output_type": "display_data"
    }
   ],
   "source": [
    "import matplotlib.cm as cm\n",
    "\n",
    "tel - atm\n",
    "wfs.cam.photonNoise = False\n",
    "nModes = 50 #M2C_KL.shape[1]\n",
    "print(f\"using {nModes} modes\")\n",
    "stroke = 1*1e-9\n",
    "\n",
    "i_cube = np.zeros((wfs.nTheta, np.sum(wfs.validSignal), nModes))\n",
    "# ngs.nPhoton = 10000000000\n",
    "wfs.modulation = param['modulation']\n",
    "dm.coefs = 0\n",
    "ngs* tel * dm * wfs\n",
    "\n",
    "# This is the reference images (cube) for the Time-resolved WFS\n",
    "ref_cube = wfs.cam.cube[:, wfs.validSignal]\n",
    "\n",
    "# for every mode, get the signal cube (the frames along the modulation)\n",
    "for i in range(nModes):\n",
    "    dm.coefs = M2C_KL[:, i] * stroke\n",
    "    tel * dm * wfs\n",
    "    push = wfs.cam.cube[:, wfs.validSignal]\n",
    "    push_signal = push/np.sum(push) - \\\n",
    "                      ref_cube/np.sum(ref_cube)\n",
    "\n",
    "    dm.coefs = -M2C_KL[:, i] * stroke\n",
    "    tel * dm * wfs\n",
    "    pull = wfs.cam.cube[:, wfs.validSignal]\n",
    "    pull_signal = pull/np.sum(pull) - \\\n",
    "                      ref_cube/np.sum(ref_cube)\n",
    "\n",
    "    i_cube[:,:,i] = (0.5 * (push_signal - pull_signal) / stroke)\n",
    "\n",
    "# for every mode and every frame along the modulation, determine the impact of every frame on the signal and give than frame a weight [0,1]\n",
    "weighting_cube = np.zeros((wfs.nTheta, nModes))\n",
    "for i in range(nModes):\n",
    "    #weighting_cube[:,i] = (np.std(i_cube[:, :, i], axis=1))\n",
    "    #weighting_cube[:,i] = (np.sqrt(np.sum(i_cube[:, :, i]**2, axis=1)))\n",
    "    #weighting_cube[:,i] = weighting_cube[:,i] - np.min(weighting_cube[:,i])\n",
    "    #weighting_cube[:,i] = weighting_cube[:,i]  / np.max(weighting_cube[:,i])\n",
    "\n",
    "    avg_val = np.mean(i_cube[:, :, i])\n",
    "    weighting_cube[:,i] = ((np.mean((i_cube[:, :, i]-avg_val)**2, axis=1)))**2\n",
    "    #weighting_cube[:,i] = weighting_cube[:,i] - np.min(weighting_cube[:,i])\n",
    "    weighting_cube[:,i] = weighting_cube[:,i]  / np.max(np.abs(weighting_cube[:,i]))\n",
    "\n",
    "plt.figure()\n",
    "im = plt.imshow(weighting_cube, cmap=cm.Greys)\n",
    "im1_cbar = plt.colorbar(im)\n",
    "plt.title(\"Normalized weight for each frame of the modulation with every KL mode\")\n",
    "plt.ylabel(\"Modulation Frame\")\n",
    "plt.xlabel(\"KL mode\")\n",
    "plt.figure()\n",
    "\n",
    "print(np.sum(weighting_cube, axis=0))\n",
    "print(np.sum(weighting_cube, axis=1))"
   ]
  },
  {
   "cell_type": "markdown",
   "metadata": {},
   "source": [
    "For reference, what does the \"binary weights\" looks like. In this case, we remove 11 frames per face for the 1st and 2nd KL mode with only 4 frames remaining."
   ]
  },
  {
   "cell_type": "code",
   "execution_count": 6,
   "metadata": {
    "ExecuteTime": {
     "end_time": "2024-01-30T15:05:50.266496065Z",
     "start_time": "2024-01-30T15:05:50.105565328Z"
    }
   },
   "outputs": [
    {
     "data": {
      "text/plain": "Text(0.5, 0, 'KL mode')"
     },
     "execution_count": 6,
     "metadata": {},
     "output_type": "execute_result"
    },
    {
     "data": {
      "text/plain": "<Figure size 432x288 with 2 Axes>",
      "image/png": "[encoded data removed]"
     },
     "metadata": {
      "needs_background": "light"
     },
     "output_type": "display_data"
    }
   ],
   "source": [
    "# this is hard coded because I always use 48 frames and caculating the optimal number of frames to retain is long\n",
    "framesRemPerFace = [11, 11, 9, 9, 9, 7, 7, 7, 7, 7, 7, 7, 7, 5, 5, 5, 5, 5, 5, 5, 5, 5,\n",
    "                                      3, 3, 3, 3, 3, 3, 3, 1, 1, 1, 1, 1, 1, 1, 1]\n",
    "binary_weight_cube = np.ones((wfs.nTheta, nModes))\n",
    "for f in range(len(framesRemPerFace)):\n",
    "    idx = calcEquidistantFrameIndices(framesRemPerFace[f], wfs.nTheta)\n",
    "    binary_weight_cube[idx, f] = 0\n",
    "\n",
    "\n",
    "im = plt.imshow(binary_weight_cube, cmap=cm.Greys)\n",
    "im1_cbar = plt.colorbar(im)\n",
    "plt.title(\"Selected frames of the modulation with every KL mode (binary weights)\")\n",
    "plt.ylabel(\"Modulation Frame\")\n",
    "plt.xlabel(\"KL mode\")"
   ]
  },
  {
   "cell_type": "markdown",
   "metadata": {},
   "source": [
    "# Now we calculate the interaction matrix for 4 flavors: unmodulated, modulated, modulated with weights and modulated with binary weights (0 or 1). We only use the first 50 KL modes for now.\n",
    "\n",
    "Formulas used:\n",
    "\n",
    "$$ \\Delta I(\\phi) = \\frac{I(\\phi)}{N} - \\frac{I_0}{N_0}  $$ (eq. 2.11)\n",
    "\n",
    "$$ \\delta I (\\phi_i) = \\frac{\\Delta I(\\epsilon \\phi_i) - \\Delta I(-\\epsilon \\phi_i)}{2\\epsilon} $$ (eq. 2.12)\n",
    "\n",
    "$$ \\mathcal{D} = ( \\delta I(\\phi_1), \\delta I(\\phi_2), ...,\\delta I(\\phi_{N_{modes}})  )$$ (eq. 2.13)"
   ]
  },
  {
   "cell_type": "code",
   "execution_count": 7,
   "metadata": {
    "ExecuteTime": {
     "end_time": "2024-01-30T15:06:33.809902546Z",
     "start_time": "2024-01-30T15:05:50.266844914Z"
    }
   },
   "outputs": [
    {
     "name": "stdout",
     "output_type": "stream",
     "text": [
      "Telescope and Atmosphere separated!\n",
      "Updating the reference slopes and Wavelength Calibration for the new modulation...\n",
      "Done!\n",
      "Updating the reference slopes and Wavelength Calibration for the new modulation...\n",
      "Done!\n",
      "Updating the reference slopes and Wavelength Calibration for the new modulation...\n",
      "Done!\n",
      "Updating the reference slopes and Wavelength Calibration for the new modulation...\n",
      "Done!\n"
     ]
    },
    {
     "name": "stderr",
     "output_type": "stream",
     "text": [
      "\n",
      "KeyboardInterrupt\n",
      "\n"
     ]
    }
   ],
   "source": [
    "import matplotlib.cm as cm\n",
    "\n",
    "tel - atm\n",
    "wfs.cam.photonNoise = False\n",
    "nModes = 50 #M2C_KL.shape[1]\n",
    "stroke = 1*1e-9\n",
    "\n",
    "# Calculate the interaction matrix of the PWFS. Weights is the weight of every frame of every mode. Mod is modulation of the PWFS\n",
    "def getInterationMatrixModulated(weights, mod=5):\n",
    "    imat = np.zeros((np.sum(wfs.validSignal), nModes))\n",
    "    wfs.modulation = mod\n",
    "\n",
    "    # Get the reference image of the PWFS\n",
    "    dm.coefs = 0\n",
    "    tel * dm * wfs\n",
    "    ref_cube = wfs.cam.cube[:, wfs.validSignal]\n",
    "\n",
    "    for m in range(nModes):\n",
    "        dm.coefs = M2C_KL[:, m] * stroke\n",
    "        tel * dm * wfs\n",
    "\n",
    "        # Get push PWFS image, keep only the \"valid pixels\"\n",
    "        push = wfs.cam.cube[:, wfs.validSignal]\n",
    "        # Normalize by the total amount of photons and substract the (also normalized) reference. Apply the weights to both (eq. 2.11)\n",
    "        push_signal = (np.sum(push*weights[:, np.newaxis, m], axis=0)/np.sum(push*weights[:, np.newaxis, m])) - \\\n",
    "                      (np.sum(ref_cube*weights[:, np.newaxis, m], axis=0)/np.sum(ref_cube*weights[:, np.newaxis, m]))\n",
    "\n",
    "\n",
    "        dm.coefs = -M2C_KL[:, m] * stroke\n",
    "        tel * dm * wfs\n",
    "        # Get pull PWFS image, keep only the \"valid pixels\"\n",
    "        pull = wfs.cam.cube[:, wfs.validSignal]\n",
    "        # Normalize by the total amount of photons and substract the (also normalized) reference. Apply the weights to both (eq. 2.11)\n",
    "        pull_signal = (np.sum(pull*weights[:, np.newaxis, m], axis=0)/np.sum(pull*weights[:, np.newaxis, m])) - \\\n",
    "                       (np.sum(ref_cube*weights[:, np.newaxis, m], axis=0)/np.sum(ref_cube*weights[:, np.newaxis, m]))\n",
    "\n",
    "        # Get the average of the push and pull and remove contribution of the stroke (eq. 2.12)\n",
    "        imat[:,m] = (0.5 * (push_signal - pull_signal) / stroke)\n",
    "\n",
    "\n",
    "        #imat[:,m] /= np.max(imat[:,m])\n",
    "    return imat\n",
    "\n",
    "# Calculate the interaction matrix of the PWFS with no modulation\n",
    "def getInterationMatrixUnmodulated():\n",
    "    imat = np.zeros((np.sum(wfs.validSignal), nModes))\n",
    "    wfs.modulation = 0\n",
    "    dm.coefs = 0\n",
    "    tel * dm * wfs\n",
    "    ref_frame = wfs.cam.frame[wfs.validSignal]\n",
    "\n",
    "    for m in range(nModes):\n",
    "        dm.coefs = M2C_KL[:, m] * stroke\n",
    "        tel * dm * wfs\n",
    "\n",
    "        # Get push PWFS image, keep only the \"valid pixels\"\n",
    "        push = wfs.cam.frame[wfs.validSignal]\n",
    "        # Normalize by the total amount of photons and substract the (also normalized) reference (eq. 2.11)\n",
    "        push_signal = (push/np.sum(push)) - (ref_frame/np.sum(ref_frame))\n",
    "\n",
    "        dm.coefs = -M2C_KL[:, m] * stroke\n",
    "        tel * dm * wfs\n",
    "\n",
    "        # Get pull PWFS image, keep only the \"valid pixels\"\n",
    "        pull = wfs.cam.frame[wfs.validSignal]\n",
    "        # Normalize by the total amount of photons and substract the (also normalized) reference (eq. 2.11)\n",
    "        pull_signal = (pull/np.sum(pull)) - (ref_frame/np.sum(ref_frame))\n",
    "\n",
    "        # Get the average of the push and pull and remove contribution of the stroke (eq. 2.12)\n",
    "        imat[:,m] = (0.5 * (push_signal - pull_signal) / stroke)\n",
    "        #imat[:,m] /=np.max(imat[:,m])\n",
    "\n",
    "    return imat\n",
    "\n",
    "# Calculate the interaction matrix of all 4 flavors\n",
    "I_mat_modulated = getInterationMatrixModulated(np.ones((wfs.nTheta, nModes)), mod=param['modulation'])\n",
    "I_mat_unmodulated = getInterationMatrixUnmodulated()\n",
    "I_mat_weighted = getInterationMatrixModulated(weighting_cube, mod=param['modulation'])\n",
    "I_mat_binary = getInterationMatrixModulated(binary_weight_cube, mod=param['modulation'])\n",
    "\n",
    "# Calculate the inverse of every interaction matrix\n",
    "I_mat_modulated_inv = inv(I_mat_modulated.T @ I_mat_modulated) @ I_mat_modulated.T\n",
    "I_mat_unmodulated_inv = inv(I_mat_unmodulated.T @ I_mat_unmodulated) @ I_mat_unmodulated.T\n",
    "I_mat_weighted_inv = inv(I_mat_weighted.T @ I_mat_weighted) @ I_mat_weighted.T\n",
    "I_mat_binary_inv = inv(I_mat_binary.T @ I_mat_binary) @ I_mat_binary.T\n"
   ]
  },
  {
   "cell_type": "markdown",
   "metadata": {},
   "source": [
    "# With the interaction matrix and its inverse,validate by multiplying both. This should give the identity matrix. If it isn't the identity matrix, something went wrong"
   ]
  },
  {
   "cell_type": "code",
   "execution_count": null,
   "metadata": {},
   "outputs": [],
   "source": [
    "plt.figure()\n",
    "plt.imshow((I_mat_modulated_inv@I_mat_modulated))\n",
    "diag_modulated_err_rms = np.sqrt(np.mean((I_mat_modulated_inv@I_mat_modulated - np.identity(nModes))**2))\n",
    "plt.title(f\"Identity of modulated reconstructor. RMS err = {diag_modulated_err_rms}\")\n",
    "plt.figure()\n",
    "plt.imshow(I_mat_unmodulated_inv@I_mat_unmodulated)\n",
    "diag_unmodulated_err_rms = np.sqrt(np.mean((I_mat_unmodulated_inv@I_mat_unmodulated - np.identity(nModes))**2))\n",
    "plt.title(f\"Identity of unmodulated reconstructor. RMS err = {diag_unmodulated_err_rms}\")\n",
    "plt.figure()\n",
    "plt.imshow(I_mat_weighted_inv@I_mat_weighted)\n",
    "diag_weighted_err_rms = np.sqrt(np.mean((I_mat_weighted_inv@I_mat_weighted - np.identity(nModes))**2))\n",
    "plt.title(f\"Identity of weighted TR reconstructor. RMS err = {diag_weighted_err_rms}\")\n",
    "plt.figure()\n",
    "plt.imshow(I_mat_binary_inv@I_mat_binary)\n",
    "diag_binary_err_rms = np.sqrt(np.mean((I_mat_binary_inv@I_mat_binary - np.identity(nModes))**2))\n",
    "plt.title(f\"Identity of binary TR reconstructor. RMS err = {diag_binary_err_rms}\")"
   ]
  },
  {
   "cell_type": "markdown",
   "metadata": {},
   "source": [
    "## For a given KL (a given column of the interaction matrix), looks at the some of the stats. (For debugging purposes)"
   ]
  },
  {
   "cell_type": "code",
   "execution_count": null,
   "metadata": {},
   "outputs": [],
   "source": [
    "sel_KL = 0\n",
    "\n",
    "print(f\"Unmodulated        :: KL={sel_KL}, Length={len(I_mat_unmodulated[:,sel_KL]):d}, Avg={np.mean(I_mat_unmodulated[:,sel_KL]):.2e}, std={np.std(I_mat_unmodulated[:,sel_KL]):.2f}, var={np.var(I_mat_unmodulated[:,sel_KL]):.2f}, Max={np.max(I_mat_unmodulated[:,sel_KL]):.2f}, Min={np.min(I_mat_unmodulated[:,sel_KL]):.2f}\")\n",
    "print(f\"Modulated          :: KL={sel_KL}, Length={len(I_mat_modulated[:,sel_KL]):d}, Avg={np.mean(I_mat_modulated[:,sel_KL]):.2e}, std={np.std(I_mat_modulated[:,sel_KL]):.2f}, var={np.var(I_mat_modulated[:,sel_KL]):.2f}, Max={np.max(I_mat_modulated[:,sel_KL]):.2f}, Min={np.min(I_mat_modulated[:,sel_KL]):.2f}\")\n",
    "print(f\"Weighted modulated :: KL={sel_KL}, Length={len(I_mat_weighted[:,sel_KL]):d}, Avg={np.mean(I_mat_weighted[:,sel_KL]):.2e}, std={np.std(I_mat_weighted[:,sel_KL]):.2f}, var={np.var(I_mat_weighted[:,sel_KL]):.2f}, Max={np.max(I_mat_weighted[:,sel_KL]):.2f}, Min={np.min(I_mat_weighted[:,sel_KL]):.2f}\")\n",
    "print(f\"Binary modulated   :: KL={sel_KL}, Length={len(I_mat_binary[:,sel_KL]):d}, Avg={np.mean(I_mat_binary[:,sel_KL]):.2e}, std={np.std(I_mat_binary[:,sel_KL]):.2f}, var={np.var(I_mat_binary[:,sel_KL]):.2f}, Max={np.max(I_mat_binary[:,sel_KL]):.2f}, Min={np.min(I_mat_binary[:,sel_KL]):.2f}\")\n"
   ]
  },
  {
   "cell_type": "markdown",
   "metadata": {},
   "source": [
    "The near 0 average makes sense, but is it normal that the max and min values change?"
   ]
  },
  {
   "cell_type": "markdown",
   "metadata": {},
   "source": [
    "# Finally, with the interaction matrix, we should be able the calculate the sensitivity of the system.\n",
    "This is the part I struggle with, I am usure why I don't get values between 0 and 2 like in the litterature. Here I'm following formula 3.11 from Chambouleyron's thesis.\n",
    "\n",
    "$$ s_b (\\phi_i) = \\| \\delta I(\\phi_i) \\|_2   $$"
   ]
  },
  {
   "cell_type": "code",
   "execution_count": null,
   "metadata": {},
   "outputs": [],
   "source": [
    "radian_in_1m = (2*np.pi)/ ngs.wavelength\n",
    "plt.figure()\n",
    "plt.plot(np.sqrt(wfs.nSubap**2) * np.sqrt(np.sum((I_mat_modulated)**2, axis=0)) / radian_in_1m, marker=\"x\",label=\"Modulated\")\n",
    "plt.plot(np.sqrt(wfs.nSubap**2) * np.sqrt(np.sum((I_mat_unmodulated - np.mean(I_mat_modulated, axis=0) )**2, axis=0)) / radian_in_1m, marker=\"o\",label=\"Unmodulated\")\n",
    "plt.plot(np.sqrt(wfs.nSubap**2) * np.sqrt(np.sum((I_mat_weighted )**2, axis=0)) / radian_in_1m, marker=\"o\", label=\"TR WFS - Weighted\")\n",
    "plt.plot(np.sqrt(wfs.nSubap**2) * np.sqrt(np.sum((I_mat_binary )**2, axis=0)) / radian_in_1m, marker=\"o\", label=\"TR WFS - Binary\")\n",
    "plt.xlabel(\"KL modes\")\n",
    "plt.ylabel(\"Sensitivity (std of interaction matrix)\")\n",
    "plt.title(f\"Sensitivity with lambda={param['modulation']}, SubAp={wfs.nSubap}\")\n",
    "plt.legend()"
   ]
  },
  {
   "cell_type": "markdown",
   "metadata": {},
   "source": [
    "## Try another way , by getting the standard deviation along each column"
   ]
  },
  {
   "cell_type": "code",
   "execution_count": null,
   "metadata": {},
   "outputs": [],
   "source": [
    "plt.figure()\n",
    "plt.plot(np.std(I_mat_modulated, axis=0), marker=\"o\",label=\"Modulated\")\n",
    "plt.plot(np.std(I_mat_unmodulated, axis=0), marker=\"o\",label=\"Unmodulated\")\n",
    "plt.plot(np.std(I_mat_weighted, axis=0), marker=\"o\", label=\"TR WFS - Weighted\")\n",
    "plt.plot(np.std(I_mat_binary, axis=0), marker=\"o\", label=\"TR WFS - Binary\")\n",
    "plt.xlabel(\"KL modes\")\n",
    "plt.ylabel(\"Sensitivity (std of interaction matrix)\")\n",
    "plt.title(f\"Sensitivity with lambda={param['modulation']}\")\n",
    "plt.legend()"
   ]
  },
  {
   "cell_type": "markdown",
   "metadata": {},
   "source": [
    "## Trying to reproduce the formula 3.20 from Chambouleron's thesis.\n",
    "\n",
    "$$ s_\\gamma (\\phi_i) = \\| \\frac{\\delta I(\\phi_i)}{\\sqrt{I_0}} \\|_2 $$"
   ]
  },
  {
   "cell_type": "code",
   "execution_count": null,
   "metadata": {},
   "outputs": [],
   "source": [
    "tel - atm\n",
    "wfs.cam.photonNoise = False\n",
    "nModes = 50\n",
    "stroke = 1*1e-9\n",
    "\n",
    "\n",
    "def getSensitivityModulated(weights, mod=5):\n",
    "    imat = np.zeros((np.sum(wfs.validSignal), nModes))\n",
    "    wfs.modulation = mod\n",
    "    dm.coefs = 0\n",
    "    tel * dm * wfs\n",
    "    ref_cube = int(wfs.cam.cube[:, wfs.validSignal])\n",
    "\n",
    "    for m in range(nModes):\n",
    "        dm.coefs = M2C_KL[:, m] * stroke\n",
    "        tel * dm * wfs\n",
    "\n",
    "        push = int(wfs.cam.cube[:, wfs.validSignal])\n",
    "        push_signal = np.sum(push*weights[:, np.newaxis, m], axis=0)/np.sum(push*weights[:, np.newaxis, m]) - \\\n",
    "                      np.sum(ref_cube*weights[:, np.newaxis, m], axis=0)/np.sum(ref_cube*weights[:, np.newaxis, m])\n",
    "\n",
    "\n",
    "        dm.coefs = -M2C_KL[:, m] * stroke\n",
    "        tel * dm * wfs\n",
    "\n",
    "        pull = int(wfs.cam.cube[:, wfs.validSignal])\n",
    "        pull_signal = np.sum(pull*weights[:, np.newaxis, m], axis=0)/np.sum(pull*weights[:, np.newaxis, m]) - \\\n",
    "                      np.sum(ref_cube*weights[:, np.newaxis, m], axis=0)/np.sum(ref_cube*weights[:, np.newaxis, m])\n",
    "\n",
    "        imat[:,m] = (0.5 * (push_signal - pull_signal) / stroke)\n",
    "        imat[:,m] = imat[:,m] / np.sqrt(np.sum(ref_cube*weights[:, np.newaxis, m], axis=0)/np.sum(ref_cube*weights[:, np.newaxis, m]))\n",
    "        #imat[:,m] /= np.max(imat[:,m] )\n",
    "    return imat\n",
    "\n",
    "def getSensitivityUnmodulated():\n",
    "    imat = np.zeros((np.sum(wfs.validSignal), nModes))\n",
    "    wfs.modulation = 0\n",
    "    dm.coefs = 0\n",
    "    tel * dm * wfs\n",
    "    ref_frame = int(wfs.cam.frame[wfs.validSignal])\n",
    "\n",
    "    for m in range(nModes):\n",
    "        dm.coefs = M2C_KL[:, m] * stroke\n",
    "        tel * dm * wfs\n",
    "\n",
    "        push = int(wfs.cam.frame[wfs.validSignal])\n",
    "        push_signal = push/np.sum(push) - \\\n",
    "                      ref_frame/np.sum(ref_frame)\n",
    "\n",
    "\n",
    "\n",
    "        dm.coefs = -M2C_KL[:, m] * stroke\n",
    "        tel * dm * wfs\n",
    "\n",
    "        pull = int(wfs.cam.frame[wfs.validSignal])\n",
    "        pull_signal = pull/np.sum(pull) - \\\n",
    "                      ref_frame/np.sum(ref_frame)\n",
    "\n",
    "\n",
    "\n",
    "        imat[:,m] = (0.5 * (push_signal - pull_signal) / stroke)\n",
    "\n",
    "        # Divide by the square root of the normalized reference image\n",
    "        imat[:,m] = imat[:,m] / np.sqrt(ref_frame/np.sum(ref_frame))\n",
    "        #imat[:,m] /= np.max(imat[:,m] )\n",
    "\n",
    "    return imat\n",
    "\n",
    "s_y_modulated = getInterationMatrixModulated(np.ones((wfs.nTheta, nModes)), mod=param['modulation'])\n",
    "s_y_unmodulated = getInterationMatrixUnmodulated()\n",
    "s_y_weighted = getInterationMatrixModulated(weighting_cube, mod=param['modulation'])\n",
    "s_y_binary = getInterationMatrixModulated(binary_weight_cube, mod=param['modulation'])"
   ]
  },
  {
   "cell_type": "markdown",
   "metadata": {},
   "source": []
  },
  {
   "cell_type": "markdown",
   "metadata": {},
   "source": [
    "Take each column and get the square norm ($L^2$)"
   ]
  },
  {
   "cell_type": "code",
   "execution_count": null,
   "metadata": {},
   "outputs": [],
   "source": [
    "radian_in_1m = (2*np.pi)/ ngs.wavelength\n",
    "plt.figure()\n",
    "plt.plot(np.sqrt(np.sum(np.square(s_y_modulated), axis=0))/ radian_in_1m, marker=\"o\", label=\"Modulated\")\n",
    "plt.plot(np.sqrt(np.sum(np.square(s_y_unmodulated), axis=0))/ radian_in_1m, marker=\"o\", label=\"Unmodulated\")\n",
    "plt.plot(np.sqrt(np.sum(np.square(s_y_weighted), axis=0))/ radian_in_1m, marker=\"o\", label=\"TR WFS - Weighted\")\n",
    "plt.plot(np.sqrt(np.sum(np.square(s_y_binary), axis=0))/ radian_in_1m, marker=\"o\", label=\"TR WFS - binary\")\n",
    "plt.xlabel(\"KL modes\")\n",
    "plt.ylabel(\"Sensitivity (std of interaction matrix)\")\n",
    "plt.title(f\"Sensitivity with lambda={param['modulation']}\")\n",
    "plt.legend()"
   ]
  },
  {
   "cell_type": "markdown",
   "source": [],
   "metadata": {
    "collapsed": false
   }
  }
 ],
 "metadata": {
  "kernelspec": {
   "display_name": "Python 3 (ipykernel)",
   "language": "python",
   "name": "python3"
  },
  "language_info": {
   "codemirror_mode": {
    "name": "ipython",
    "version": 3
   },
   "file_extension": ".py",
   "mimetype": "text/x-python",
   "name": "python",
   "nbconvert_exporter": "python",
   "pygments_lexer": "ipython3",
   "version": "3.10.0"
  }
 },
 "nbformat": 4,
 "nbformat_minor": 1
}
