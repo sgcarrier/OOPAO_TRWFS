{
 "cells": [
  {
   "cell_type": "code",
   "execution_count": 4,
   "metadata": {
    "collapsed": true,
    "ExecuteTime": {
     "end_time": "2023-11-23T20:04:18.966185255Z",
     "start_time": "2023-11-23T20:04:18.954321391Z"
    }
   },
   "outputs": [],
   "source": []
  },
  {
   "cell_type": "code",
   "execution_count": 5,
   "outputs": [
    {
     "name": "stdout",
     "output_type": "stream",
     "text": [
      "Reading/Writting calibration data from data_calibration/\n",
      "Writting output data in data_cl/\n",
      "%%%%%%%%%%%%%%%%%%%%%%%%%%%%%% TELESCOPE %%%%%%%%%%%%%%%%%%%%%%%%%%%%%%\n",
      "     Diameter             24               [m]        \n",
      "    Resolution           120             [pixels]     \n",
      "    Pixel Size           0.2               [m]        \n",
      "     Surface            452.0              [m2]       \n",
      "Central Obstruction        0          [% of diameter]  \n",
      "Pixels in the pupil      11304            [pixels]     \n",
      "      Source             None                         \n",
      "%%%%%%%%%%%%%%%%%%%%%%%%%%%%%%%%%%%%%%%%%%%%%%%%%%%%%%%%%%%%%%%%%%%%%%%%%\n",
      "No light propagated through the telescope\n",
      "%%%%%%%%%%%%%%%%%%%%%%%%%%%%% SOURCE %%%%%%%%%%%%%%%%%%%%%%%%%%%%%%\n",
      " Source Wavelength Zenith  Azimuth   Altitude Magnitude    Flux   \n",
      "           [m]    [arcsec]  [deg]      [m]              [phot/m2/s]\n",
      "-------------------------------------------------------------------\n",
      "  NGS    7.9e-07     0        0        inf       1.0    2920895001.3\n",
      "%%%%%%%%%%%%%%%%%%%%%%%%%%%%%%%%%%%%%%%%%%%%%%%%%%%%%%%%%%%%%%%%%%%\n",
      "Creation of layer1/5 ...\n",
      "-> Computing the initial phase screen...\n",
      "initial phase screen : 0.008843183517456055 s\n",
      "ZZt.. : 0.8774347305297852 s\n",
      "ZXt.. : 0.2342665195465088 s\n",
      "XXt.. : 0.12032961845397949 s\n",
      "Done!\n",
      "Creation of layer2/5 ...\n",
      "-> Computing the initial phase screen...\n",
      "initial phase screen : 0.007925748825073242 s\n",
      "ZZt.. : 4.76837158203125e-07 s\n",
      "ZXt.. : 8.58306884765625e-06 s\n",
      "XXt.. : 3.337860107421875e-06 s\n",
      "SCAO system considered: covariance matrices were already computed!\n",
      "Done!\n",
      "Creation of layer3/5 ...\n",
      "-> Computing the initial phase screen...\n",
      "initial phase screen : 0.008450508117675781 s\n",
      "ZZt.. : 4.76837158203125e-07 s\n",
      "ZXt.. : 8.821487426757812e-06 s\n",
      "XXt.. : 3.814697265625e-06 s\n",
      "SCAO system considered: covariance matrices were already computed!\n",
      "Done!\n",
      "Creation of layer4/5 ...\n",
      "-> Computing the initial phase screen...\n",
      "initial phase screen : 0.008183002471923828 s\n",
      "ZZt.. : 2.384185791015625e-07 s\n",
      "ZXt.. : 1.239776611328125e-05 s\n",
      "XXt.. : 3.337860107421875e-06 s\n",
      "SCAO system considered: covariance matrices were already computed!\n",
      "Done!\n",
      "Creation of layer5/5 ...\n",
      "-> Computing the initial phase screen...\n",
      "initial phase screen : 0.008879899978637695 s\n",
      "ZZt.. : 4.76837158203125e-07 s\n",
      "ZXt.. : 1.2159347534179688e-05 s\n",
      "XXt.. : 3.814697265625e-06 s\n",
      "SCAO system considered: covariance matrices were already computed!\n",
      "Done!\n",
      "%%%%%%%%%%%%%%%%%%%%%%%%%%%%% ATMOSPHERE %%%%%%%%%%%%%%%%%%%%%%%%%%%%%\n",
      "   Layer     Direction     Speed      Altitude      Cn2     \n",
      "               [deg]       [m/s]        [m]       [m-2/3]   \n",
      "----------------------------------------------------------------------\n",
      "     1           0           10         100         0.2     \n",
      "------------------------------------------------------------------\n",
      "     2           72          10         100         0.2     \n",
      "------------------------------------------------------------------\n",
      "     3          144          10         100         0.2     \n",
      "------------------------------------------------------------------\n",
      "     4          216          10         100         0.2     \n",
      "------------------------------------------------------------------\n",
      "     5          288          10         100         0.2     \n",
      "------------------------------------------------------------------\n",
      "    r0 @500 nm        0.186 [m]     \n",
      "        L0              30 [m]      \n",
      "  Seeing @500nm        0.55 [\"]     \n",
      "    Frequency        1000.0 [Hz]    \n",
      "%%%%%%%%%%%%%%%%%%%%%%%%%%%%%%%%%%%%%%%%%%%%%%%%%%%%%%%%%%%%%%%%%%%%%%%\n",
      "No coordinates loaded.. taking the cartesian geometry as a default\n",
      "Generating a Deformable Mirror: \n",
      "Computing the 2D zonal modes...\n",
      "%%%%%%%%%%%%%%%%%%%%%%%%%%%%%% DEFORMABLE MIRROR %%%%%%%%%%%%%%%%%%%%%%%%%%%%%%\n",
      "Controlled Actuators        777        \n",
      "         M4                False       \n",
      "        Pitch               0.8               [m]        \n",
      " Mechanical Coupling        0.45              [%]        \n",
      "-------------------------------------------------------------------------------\n",
      "Mis-registration:\n",
      "Rotation [deg]\tShift X [m]\tShift Y [m]\tRadial Scaling [%]\tTangential Scaling [%]\n",
      "      0       \t     0     \t     0     \t        0         \t          0           \n",
      "%%%%%%%%%%%%%%%%%%%%%%%%%%%%%%%%%%%%%%%%%%%%%%%%%%%%%%%%%%%%%%%%%%%%%%%%%%%%%%%\n",
      "COMPUTING TEL*DM...\n",
      " \n",
      "PREPARING IF_2D...\n",
      " \n",
      "Computing Specific Modes ...\n",
      " \n",
      "COMPUTING VON KARMAN 2D PSD...\n",
      " \n",
      "COMPUTING COV MAT HHt...\n",
      " \n",
      "TIME ELAPSED: 2 sec. COMPLETED: 100 %\n",
      "SERIALIZING IFs...\n",
      " \n",
      "776  \r 338  340  342  344  346  348  350  352  354  356  358  360  362  364  366  368  370  372  374  376  378  380  382  384  386  388  390  392  394  396  398  400  402  404  406  408  410  412  414  416  418  420  422  424  426  428  430  432  434  436  438  440  442  444  446  448  450  452  454  456  458  460  462  464  466  468  470  472  474  476  478  480  482  484  486  488  490  492  494  496  498  500  502  504  506  508  510  512  514  516  518  520  522  524  526  528  530  532  534  536  538  540  542  544  546  548  550  552  554  556  558  560  562  564  566  568  570  572  574  576  578  580  582  584  586  588  590  592  594  596  598  600  602  604  606  608  610  612  614  616  618  620  622  624  626  628  630  632  634  636  638  640  642  644  646  648  650  652  654  656  658  660  662  664  666  668  670  672  674  676  678  680  682  684  686  688  690  692    695  697  699  701  703  705  707  709  711  713  715  717  719  721  723  725  727  729  731  733  735  737  739  741  743  745  747  749  751  753  755  757  759  761  763  765  767  769  771  773  775  SERIALIZING Specific Modes...\n",
      " \n",
      "COMPUTING IFs CROSS PRODUCT...\n",
      " \n",
      "NMAX =  659\n",
      "RMS opd error = [[8.71507273e-09 1.31682836e-08 1.31682836e-08]]\n",
      "RMS Positions = [[5.51318331e-08 2.99749968e-07 2.99749968e-07]]\n",
      "MAX Positions = [[4.55944285e-07 8.16479154e-07 8.16479154e-07]]\n",
      "CHECKING ORTHONORMALITY OF SPECIFIC MODES...\n",
      " \n",
      "Orthonormality error for SpM =  3.3306690738754696e-16\n",
      "BUILDING SEED BASIS ...\n",
      " \n",
      "Orthonormality error for 660 modes of the Seed Basis =  2.2648549702353193e-14\n",
      "WARNING: Number of modes requested too high, taking the maximum value possible!\n",
      "KL WITH DOUBLE DIAGONALISATION: COVARIANCE ERROR =  4.54612635450894e-14\n",
      "Orthonormality error for 660 modes of the KL Basis =  2.55351295663786e-14\n",
      "Piston removed from the modal basis!\n",
      "Pyramid Mask initialization...\n",
      "Selection of the valid pixels...\n",
      "The valid pixel are selected on flux considerations\n",
      "Acquisition of the reference slopes and units calibration...\n",
      "WFS calibrated!\n",
      "%%%%%%%%%%%%%%%%%%%%%%%%%%%%%% PYRAMID WFS %%%%%%%%%%%%%%%%%%%%%%%%%%%%%%\n",
      " Pupils Diameter          30             [pixels]     \n",
      "Pupils Separation         4              [pixels]     \n",
      "       FoV               0.81            [arcsec]     \n",
      "  TT Modulation           3             [lamda/D]     \n",
      "PSF Core Sampling         1             [pixel(s)]    \n",
      "   Valid Pixels          3088           [pixel(s)]    \n",
      "Signal Computation    fullFrame     \n",
      "%%%%%%%%%%%%%%%%%%%%%%%%%%%%%%%%%%%%%%%%%%%%%%%%%%%%%%%%%%%%%%%%%%%%%%%%%\n"
     ]
    }
   ],
   "source": [
    "import matplotlib.pyplot as plt\n",
    "import numpy as np\n",
    "\n",
    "from OOPAO.calibration.compute_KL_modal_basis import compute_M2C, compute_KL_basis\n",
    "\n",
    "from trwfs.tools.PWFS_CMOS_NOISE_PROOF_may2022_tools import *\n",
    "from tqdm import trange\n",
    "from OOPAO.TR_Pyramid import TR_Pyramid\n",
    "from pypet import Environment, cartesian_product\n",
    "from trwfs.parameter_files.parameterFile_CMOS_PWFS_aug2022_3 import initializeParameterFile\n",
    "from OOPAO.tools.displayTools           import displayMap\n",
    "\n",
    "param = initializeParameterFile()\n",
    "\n",
    "# %% -----------------------     TELESCOPE   ----------------------------------\n",
    "\n",
    "# create the Telescope object\n",
    "tel = Telescope(resolution=param['resolution'], \\\n",
    "                diameter=param['diameter'], \\\n",
    "                samplingTime=param['samplingTime'], \\\n",
    "                centralObstruction=param['centralObstruction'])\n",
    "\n",
    "# %% -----------------------     NGS   ----------------------------------\n",
    "# create the Source object\n",
    "ngs = Source(optBand=param['opticalBand'], \\\n",
    "             magnitude=1.0)\n",
    "\n",
    "# combine the NGS to the telescope using '*' operator:\n",
    "ngs * tel\n",
    "\n",
    "tel.computePSF(zeroPaddingFactor=6)\n",
    "\n",
    "# %% -----------------------     ATMOSPHERE   ----------------------------------\n",
    "\n",
    "# create the Atmosphere object\n",
    "atm = Atmosphere(telescope=tel, \\\n",
    "                 r0=param['r0'], \\\n",
    "                 L0=param['L0'], \\\n",
    "                 windSpeed=param['windSpeed'], \\\n",
    "                 fractionalR0=param['fractionnalR0'], \\\n",
    "                 windDirection=param['windDirection'], \\\n",
    "                 altitude=param['altitude'])\n",
    "\n",
    "# initialize atmosphere\n",
    "atm.initializeAtmosphere(tel)\n",
    "#\n",
    "# self.atm.update()\n",
    "#\n",
    "# self.tel + self.atm\n",
    "# self.tel.computePSF(8)\n",
    "\n",
    "# %% -----------------------     DEFORMABLE MIRROR   ----------------------------------\n",
    "# mis-registrations object\n",
    "misReg = MisRegistration(param)\n",
    "# if no coordonates specified, create a cartesian dm\n",
    "\n",
    "dm = DeformableMirror(telescope=tel, \\\n",
    "                      nSubap=param['nSubaperture'], \\\n",
    "                      mechCoupling=param['mechanicalCoupling'], \\\n",
    "                      misReg=misReg)\n",
    "\n",
    "\n",
    "M2C_KL = compute_M2C(telescope            = tel, \\\n",
    "                     atmosphere         = atm, \\\n",
    "                     deformableMirror   = dm, \\\n",
    "                     param              = None, \\\n",
    "                     nameFolder         = None, \\\n",
    "                     nameFile           = None, \\\n",
    "                     remove_piston      = True, \\\n",
    "                     HHtName            = None, \\\n",
    "                     baseName           = None , \\\n",
    "                     mem_available      = 1e9, \\\n",
    "                     minimF             = False, \\\n",
    "                     nmo                = None, \\\n",
    "                     ortho_spm          = True, \\\n",
    "                     SZ                 = np.int64(2*tel.OPD.shape[0]), \\\n",
    "                     nZer               = 3, \\\n",
    "                     NDIVL              = 1, \\\n",
    "                     recompute_cov=True, \\\n",
    "                     save_output= False)\n",
    "\n",
    "\n",
    "wfs = TR_Pyramid(nSubap=param['nSubaperture'], \\\n",
    "                 telescope=tel, \\\n",
    "                 modulation=param['modulation'], \\\n",
    "                 lightRatio=param['lightThreshold'], \\\n",
    "                 n_pix_separation=4,\n",
    "                 calibModulation=param['calibrationModulation'], \\\n",
    "                 psfCentering=param['psfCentering'], \\\n",
    "                 n_pix_edge=2,\n",
    "                 extraModulationFactor=param['extraModulationFactor'], \\\n",
    "                 postProcessing=param['postProcessing'],\n",
    "                 nTheta_user_defined = param['nTheta_user_defined'])\n",
    "\n",
    "\n",
    "\n",
    "# wfs_unmod = TR_Pyramid(nSubap=param['nSubaperture'], \\\n",
    "#                  telescope=tel, \\\n",
    "#                  modulation=0, \\\n",
    "#                  lightRatio=param['lightThreshold'], \\\n",
    "#                  n_pix_separation=4,\n",
    "#                  calibModulation=param['calibrationModulation'], \\\n",
    "#                  psfCentering=param['psfCentering'], \\\n",
    "#                  n_pix_edge=2,\n",
    "#                  extraModulationFactor=param['extraModulationFactor'], \\\n",
    "#                  postProcessing=param['postProcessing'],\n",
    "#                  nTheta_user_defined = param['nTheta_user_defined'])"
   ],
   "metadata": {
    "collapsed": false,
    "ExecuteTime": {
     "end_time": "2023-11-23T20:04:25.887562682Z",
     "start_time": "2023-11-23T20:04:18.959703799Z"
    }
   }
  },
  {
   "cell_type": "code",
   "execution_count": 6,
   "outputs": [
    {
     "data": {
      "text/plain": "<Figure size 432x288 with 2 Axes>",
      "image/png": "[encoded data removed]"
     },
     "metadata": {
      "needs_background": "light"
     },
     "output_type": "display_data"
    }
   ],
   "source": [
    "dm.coefs = M2C_KL[:, 0:10] * 1e-9\n",
    "tel * dm * wfs\n",
    "displayMap(tel.OPD)"
   ],
   "metadata": {
    "collapsed": false,
    "ExecuteTime": {
     "end_time": "2023-11-23T20:04:27.199429608Z",
     "start_time": "2023-11-23T20:04:25.877078553Z"
    }
   }
  },
  {
   "cell_type": "code",
   "execution_count": 7,
   "outputs": [
    {
     "name": "stdout",
     "output_type": "stream",
     "text": [
      "Updating the reference slopes and Wavelength Calibration for the new modulation...\n",
      "Done!\n"
     ]
    },
    {
     "data": {
      "text/plain": "<Figure size 432x288 with 2 Axes>",
      "image/png": "[encoded data removed]"
     },
     "metadata": {
      "needs_background": "light"
     },
     "output_type": "display_data"
    }
   ],
   "source": [
    "dm.coefs = 0\n",
    "wfs.modulation = param[\"modulation\"]\n",
    "tel * dm * wfs\n",
    "im = plt.imshow(wfs.referenceSignal_2D)\n",
    "im1_cbar = plt.colorbar(im)"
   ],
   "metadata": {
    "collapsed": false,
    "ExecuteTime": {
     "end_time": "2023-11-23T20:04:27.708884011Z",
     "start_time": "2023-11-23T20:04:27.182241573Z"
    }
   }
  },
  {
   "cell_type": "code",
   "execution_count": 8,
   "outputs": [
    {
     "name": "stdout",
     "output_type": "stream",
     "text": [
      "Telescope and Atmosphere separated!\n",
      "Updating the reference slopes and Wavelength Calibration for the new modulation...\n",
      "Done!\n"
     ]
    },
    {
     "data": {
      "text/plain": "Text(0.5, 0, 'KL mode')"
     },
     "execution_count": 8,
     "metadata": {},
     "output_type": "execute_result"
    },
    {
     "name": "stderr",
     "output_type": "stream",
     "text": [
      "findfont: Font family ['normal'] not found. Falling back to DejaVu Sans.\n"
     ]
    },
    {
     "data": {
      "text/plain": "<Figure size 432x288 with 2 Axes>",
      "image/png": "[encoded data removed]"
     },
     "metadata": {
      "needs_background": "light"
     },
     "output_type": "display_data"
    },
    {
     "data": {
      "text/plain": "<Figure size 432x288 with 0 Axes>"
     },
     "metadata": {},
     "output_type": "display_data"
    },
    {
     "data": {
      "text/plain": "<Figure size 432x288 with 2 Axes>",
      "image/png": "[encoded data removed]"
     },
     "metadata": {
      "needs_background": "light"
     },
     "output_type": "display_data"
    },
    {
     "data": {
      "text/plain": "<Figure size 432x288 with 2 Axes>",
      "image/png": "[encoded data removed]"
     },
     "metadata": {
      "needs_background": "light"
     },
     "output_type": "display_data"
    }
   ],
   "source": [
    "import matplotlib.cm as cm\n",
    "\n",
    "tel - atm\n",
    "wfs.cam.photonNoise = False\n",
    "nModes = M2C_KL.shape[1]\n",
    "stroke = 1*1e-9\n",
    "\n",
    "i_cube = np.zeros((wfs.nTheta, np.sum(wfs.validSignal), nModes))\n",
    "# ngs.nPhoton = 10000000000\n",
    "wfs.modulation = param['modulation']\n",
    "dm.coefs = 0\n",
    "ngs* tel * dm * wfs\n",
    "ref_cube = wfs.cam.cube[:, wfs.validSignal]\n",
    "#ref_cube_c = np.zeros((ref_cube.shape[0], nModes))\n",
    "#push_cube_c = np.zeros((ref_cube.shape[0], nModes))\n",
    "#pull_cube_c = np.zeros((ref_cube.shape[0], nModes))\n",
    "#to_cov = np.zeros(())\n",
    "# bases = generateBases(nModes, tel.resolution, baseType=\"KL\", display=False, scale=False)\n",
    "for i in range(nModes):\n",
    "\n",
    "    #t = np.sqrt(np.mean((ref_cube/np.sum(ref_cube))**2, axis=1))\n",
    "    #ref_cube_c[:,i] = np.sqrt(np.mean((ref_cube/np.sum(ref_cube))**2, axis=1))/stroke\n",
    "    dm.coefs = M2C_KL[:, i] * stroke\n",
    "    tel * dm * wfs\n",
    "    push = wfs.cam.cube[:, wfs.validSignal]\n",
    "    push_signal = push/np.sum(push) - \\\n",
    "                      ref_cube/np.sum(ref_cube)\n",
    "\n",
    "    #push_cube_c[:,i] = np.sqrt(np.mean((push/np.sum(push))**2, axis=1))/stroke\n",
    "    if i == 0:\n",
    "        push_cube_c = np.mean(push_signal, axis=1)/stroke\n",
    "\n",
    "    dm.coefs = -M2C_KL[:, i] * stroke\n",
    "    tel * dm * wfs\n",
    "    pull = wfs.cam.cube[:, wfs.validSignal]\n",
    "    pull_signal = pull/np.sum(pull) - \\\n",
    "                      ref_cube/np.sum(ref_cube)\n",
    "    if i == 0:\n",
    "        pull_cube_c = np.mean(pull_signal, axis=1)/stroke\n",
    "\n",
    "    i_cube[:,:,i] = (0.5 * (push_signal - pull_signal) / stroke)\n",
    "\n",
    "plt.figure()\n",
    "\n",
    "t = np.zeros((48,2))\n",
    "t[:,0] = push_cube_c\n",
    "t[:,1] = pull_cube_c\n",
    "cov_ref_push = np.cov(t)\n",
    "im_cov_push = plt.imshow(cov_ref_push, cmap=cm.Greys)\n",
    "im_cov_push_cbar = plt.colorbar(im_cov_push)\n",
    "\n",
    "plt.figure()\n",
    "weighting_cube = np.zeros((wfs.nTheta, nModes))\n",
    "for i in range(nModes):\n",
    "    #weighting_cube[:,i] = (np.std(i_cube[:, :, i], axis=1))\n",
    "    avg_val = np.mean(i_cube[:, :, i])\n",
    "    #avg_val = 0\n",
    "    weighting_cube[:,i] = ((np.mean((i_cube[:, :, i]-avg_val)**2, axis=1)))**2\n",
    "    #weighting_cube[:,i] = -(weighting_cube[:,i] - np.mean(weighting_cube[:,i]))\n",
    "    weighting_cube[:,i] = weighting_cube[:,i]  / np.max(np.abs(weighting_cube[:,i]))\n",
    "\n",
    "    #weighting_cube[:,i] = np.arctan(weighting_cube[:,i])\n",
    "\n",
    "plt.figure()\n",
    "im = plt.imshow(weighting_cube, cmap=cm.Greys)\n",
    "im1_cbar = plt.colorbar(im)\n",
    "plt.ylabel(\"Modulation Frame\")\n",
    "plt.xlabel(\"KL mode\")\n",
    "plt.figure()\n",
    "# binary_weight_cube = np.copy(weighting_cube)\n",
    "# threshold = 0.5\n",
    "# binary_weight_cube[weighting_cube < threshold] = 0\n",
    "# binary_weight_cube[weighting_cube >= threshold] = 1\n",
    "\n",
    "framesRemPerFace = [11, 11, 9, 9, 9, 7, 7, 7, 7, 7, 7, 7, 7, 5, 5, 5, 5, 5, 5, 5, 5, 5,\n",
    "                                      3, 3, 3, 3, 3, 3, 3, 1, 1, 1, 1, 1, 1, 1, 1]\n",
    "binary_weight_cube = np.ones((wfs.nTheta, nModes))\n",
    "for f in range(len(framesRemPerFace)):\n",
    "    idx = calcEquidistantFrameIndices(framesRemPerFace[f], wfs.nTheta)\n",
    "    binary_weight_cube[idx, f] = 0\n",
    "\n",
    "\n",
    "im = plt.imshow(binary_weight_cube, cmap=cm.Greys)\n",
    "im1_cbar = plt.colorbar(im)\n",
    "plt.ylabel(\"Modulation Frame\")\n",
    "plt.xlabel(\"KL mode\")"
   ],
   "metadata": {
    "collapsed": false,
    "ExecuteTime": {
     "end_time": "2023-11-23T20:07:04.736260867Z",
     "start_time": "2023-11-23T20:04:27.712180395Z"
    }
   }
  },
  {
   "cell_type": "code",
   "execution_count": 9,
   "outputs": [
    {
     "name": "stdout",
     "output_type": "stream",
     "text": [
      "Telescope and Atmosphere separated!\n",
      "Updating the reference slopes and Wavelength Calibration for the new modulation...\n",
      "Done!\n",
      "Updating the reference slopes and Wavelength Calibration for the new modulation...\n",
      "Done!\n",
      "Updating the reference slopes and Wavelength Calibration for the new modulation...\n",
      "Done!\n",
      "Updating the reference slopes and Wavelength Calibration for the new modulation...\n",
      "Done!\n"
     ]
    }
   ],
   "source": [
    "import matplotlib.cm as cm\n",
    "\n",
    "tel - atm\n",
    "wfs.cam.photonNoise = False\n",
    "nModes = M2C_KL.shape[1]\n",
    "stroke = 1*1e-9\n",
    "\n",
    "\n",
    "def getInterationMatrixModulated(weights, mod=5):\n",
    "    imat = np.zeros((np.sum(wfs.validSignal), nModes))\n",
    "    wfs.modulation = mod\n",
    "    dm.coefs = 0\n",
    "    tel * dm * wfs\n",
    "    ref_cube = wfs.cam.cube[:, wfs.validSignal]\n",
    "\n",
    "    for m in range(nModes):\n",
    "        dm.coefs = M2C_KL[:, m] * stroke\n",
    "        tel * dm * wfs\n",
    "\n",
    "        push = wfs.cam.cube[:, wfs.validSignal]\n",
    "        push_signal = np.sum(push*weights[:, np.newaxis, m], axis=0)/np.sum(push*weights[:, np.newaxis, m]) - \\\n",
    "                      np.sum(ref_cube*weights[:, np.newaxis, m], axis=0)/np.sum(ref_cube*weights[:, np.newaxis, m])\n",
    "\n",
    "\n",
    "        dm.coefs = -M2C_KL[:, m] * stroke\n",
    "        tel * dm * wfs\n",
    "\n",
    "        pull = wfs.cam.cube[:, wfs.validSignal]\n",
    "        pull_signal = np.sum(pull*weights[:, np.newaxis, m], axis=0)/np.sum(pull*weights[:, np.newaxis, m]) - \\\n",
    "                      np.sum(ref_cube*weights[:, np.newaxis, m], axis=0)/np.sum(ref_cube*weights[:, np.newaxis, m])\n",
    "\n",
    "        imat[:,m] = (0.5 * (push_signal - pull_signal) / stroke)\n",
    "        #imat[:,m] /=np.std(imat[:,m] )\n",
    "    return imat\n",
    "\n",
    "def getInterationMatrixUnmodulated():\n",
    "    imat = np.zeros((np.sum(wfs.validSignal), nModes))\n",
    "    wfs.modulation = 0\n",
    "    dm.coefs = 0\n",
    "    tel * dm * wfs\n",
    "    ref_frame = wfs.cam.frame[wfs.validSignal]\n",
    "\n",
    "    for m in range(nModes):\n",
    "        dm.coefs = M2C_KL[:, m] * stroke\n",
    "        tel * dm * wfs\n",
    "\n",
    "        push = wfs.cam.frame[wfs.validSignal]\n",
    "        push_signal = push/np.sum(push) - \\\n",
    "                      ref_frame/np.sum(ref_frame)\n",
    "\n",
    "\n",
    "\n",
    "        dm.coefs = -M2C_KL[:, m] * stroke\n",
    "        tel * dm * wfs\n",
    "\n",
    "        pull = wfs.cam.frame[wfs.validSignal]\n",
    "        pull_signal = pull/np.sum(pull) - \\\n",
    "                      ref_frame/np.sum(ref_frame)\n",
    "\n",
    "\n",
    "        imat[:,m] = (0.5 * (push_signal - pull_signal) / stroke)\n",
    "        #imat[:,m] /=np.std(imat[:,m] )\n",
    "\n",
    "    return imat\n",
    "\n",
    "I_mat_modulated = getInterationMatrixModulated(np.ones((wfs.nTheta, nModes)), mod=param['modulation'])\n",
    "I_mat_unmodulated = getInterationMatrixUnmodulated()\n",
    "I_mat_weighted = getInterationMatrixModulated(weighting_cube, mod=param['modulation'])\n",
    "I_mat_binary = getInterationMatrixModulated(binary_weight_cube, mod=param['modulation'])\n",
    "\n",
    "\n",
    "I_mat_modulated_inv = inv(I_mat_modulated.T @ I_mat_modulated) @ I_mat_modulated.T\n",
    "I_mat_unmodulated_inv = inv(I_mat_unmodulated.T @ I_mat_unmodulated) @ I_mat_unmodulated.T\n",
    "I_mat_weighted_inv = inv(I_mat_weighted.T @ I_mat_weighted) @ I_mat_weighted.T\n",
    "I_mat_binary_inv = inv(I_mat_binary.T @ I_mat_binary) @ I_mat_binary.T\n"
   ],
   "metadata": {
    "collapsed": false,
    "ExecuteTime": {
     "end_time": "2023-11-23T20:15:39.693089581Z",
     "start_time": "2023-11-23T20:07:04.742117230Z"
    }
   }
  },
  {
   "cell_type": "markdown",
   "source": [
    "# Finally, with the interaction matrix, we should be able the calculate the sensitivity of the system.\n",
    "This is the part I struggle with, I am usure why I don't get values between 0 and 2 like in the litterature. Here I'm following formula 3.11 from Chambouleyron's thesis.\n",
    "\n",
    "$$ s_b (\\phi_i) = \\| \\delta I(\\phi_i) \\|_2   $$"
   ],
   "metadata": {
    "collapsed": false
   }
  },
  {
   "cell_type": "code",
   "execution_count": 10,
   "outputs": [
    {
     "data": {
      "text/plain": "<matplotlib.legend.Legend at 0x7f6bdc1018d0>"
     },
     "execution_count": 10,
     "metadata": {},
     "output_type": "execute_result"
    },
    {
     "name": "stderr",
     "output_type": "stream",
     "text": [
      "findfont: Font family ['normal'] not found. Falling back to DejaVu Sans.\n"
     ]
    },
    {
     "data": {
      "text/plain": "<Figure size 432x288 with 1 Axes>",
      "image/png": "[encoded data removed]"
     },
     "metadata": {
      "needs_background": "light"
     },
     "output_type": "display_data"
    }
   ],
   "source": [
    "radian_in_1m = (2*np.pi)/ ngs.wavelength\n",
    "plt.figure()\n",
    "plt.plot(np.sqrt(wfs.nSubap**2) * np.sqrt(np.sum((I_mat_modulated)**2, axis=0)) / radian_in_1m, marker=\"x\",label=\"Modulated\")\n",
    "plt.plot(np.sqrt(wfs.nSubap**2) * np.sqrt(np.sum((I_mat_unmodulated - np.mean(I_mat_modulated, axis=0) )**2, axis=0)) / radian_in_1m, marker=\"o\",label=\"Unmodulated\")\n",
    "plt.plot(np.sqrt(wfs.nSubap**2) * np.sqrt(np.sum((I_mat_weighted )**2, axis=0)) / radian_in_1m, marker=\"o\", label=\"TR WFS - Weighted\")\n",
    "plt.plot(np.sqrt(wfs.nSubap**2) * np.sqrt(np.sum((I_mat_binary )**2, axis=0)) / radian_in_1m, marker=\"o\", label=\"TR WFS - Binary\")\n",
    "plt.xlabel(\"KL modes\")\n",
    "plt.ylabel(\"Sensitivity (std of interaction matrix)\")\n",
    "plt.title(f\"Sensitivity with lambda={param['modulation']}, SubAp={wfs.nSubap}\")\n",
    "plt.legend()"
   ],
   "metadata": {
    "collapsed": false,
    "ExecuteTime": {
     "end_time": "2023-11-23T20:15:39.899526364Z",
     "start_time": "2023-11-23T20:15:39.732151705Z"
    }
   }
  },
  {
   "cell_type": "code",
   "execution_count": 13,
   "outputs": [
    {
     "name": "stdout",
     "output_type": "stream",
     "text": [
      "Telescope and Atmosphere combined!\n"
     ]
    },
    {
     "data": {
      "text/plain": "<Figure size 432x288 with 12 Axes>",
      "image/png": "[encoded data removed]"
     },
     "metadata": {
      "needs_background": "light"
     },
     "output_type": "display_data"
    },
    {
     "name": "stdout",
     "output_type": "stream",
     "text": [
      "Elapsed time: 0.27800512313842773 s\n"
     ]
    },
    {
     "data": {
      "text/plain": "<Figure size 432x288 with 0 Axes>"
     },
     "metadata": {},
     "output_type": "display_data"
    },
    {
     "name": "stdout",
     "output_type": "stream",
     "text": [
      "Loop0/100 Turbulence: 1102.8653577396194 -- Residual:1102.8653577396194\n",
      "\n",
      "Elapsed time: 0.2929267883300781 s\n"
     ]
    },
    {
     "data": {
      "text/plain": "<Figure size 432x288 with 0 Axes>"
     },
     "metadata": {},
     "output_type": "display_data"
    },
    {
     "name": "stdout",
     "output_type": "stream",
     "text": [
      "Loop1/100 Turbulence: 1103.0885469438338 -- Residual:1103.0885469438338\n",
      "\n",
      "Elapsed time: 0.2767961025238037 s\n"
     ]
    },
    {
     "data": {
      "text/plain": "<Figure size 432x288 with 0 Axes>"
     },
     "metadata": {},
     "output_type": "display_data"
    },
    {
     "name": "stdout",
     "output_type": "stream",
     "text": [
      "Loop2/100 Turbulence: 1103.2896594049453 -- Residual:1021.5161529477522\n",
      "\n",
      "Elapsed time: 0.27162957191467285 s\n"
     ]
    },
    {
     "data": {
      "text/plain": "<Figure size 432x288 with 0 Axes>"
     },
     "metadata": {},
     "output_type": "display_data"
    },
    {
     "name": "stdout",
     "output_type": "stream",
     "text": [
      "Loop3/100 Turbulence: 1103.4762400702584 -- Residual:941.9825196717728\n",
      "\n",
      "Elapsed time: 0.26210498809814453 s\n"
     ]
    },
    {
     "data": {
      "text/plain": "<Figure size 432x288 with 0 Axes>"
     },
     "metadata": {},
     "output_type": "display_data"
    },
    {
     "name": "stdout",
     "output_type": "stream",
     "text": [
      "Loop4/100 Turbulence: 1103.6818457911086 -- Residual:860.8134077646633\n",
      "\n",
      "Elapsed time: 0.2629709243774414 s\n"
     ]
    },
    {
     "data": {
      "text/plain": "<Figure size 432x288 with 0 Axes>"
     },
     "metadata": {},
     "output_type": "display_data"
    },
    {
     "name": "stdout",
     "output_type": "stream",
     "text": [
      "Loop5/100 Turbulence: 1103.8828522822942 -- Residual:780.1918512687085\n",
      "\n",
      "Elapsed time: 0.27622270584106445 s\n"
     ]
    },
    {
     "data": {
      "text/plain": "<Figure size 432x288 with 0 Axes>"
     },
     "metadata": {},
     "output_type": "display_data"
    },
    {
     "name": "stdout",
     "output_type": "stream",
     "text": [
      "Loop6/100 Turbulence: 1104.0847161057773 -- Residual:704.0338203952667\n",
      "\n",
      "Elapsed time: 0.27240967750549316 s\n"
     ]
    },
    {
     "data": {
      "text/plain": "<Figure size 432x288 with 0 Axes>"
     },
     "metadata": {},
     "output_type": "display_data"
    },
    {
     "name": "stdout",
     "output_type": "stream",
     "text": [
      "Loop7/100 Turbulence: 1104.2921476932524 -- Residual:633.3724477260786\n",
      "\n",
      "Elapsed time: 0.2718832492828369 s\n"
     ]
    },
    {
     "data": {
      "text/plain": "<Figure size 432x288 with 0 Axes>"
     },
     "metadata": {},
     "output_type": "display_data"
    },
    {
     "name": "stdout",
     "output_type": "stream",
     "text": [
      "Loop8/100 Turbulence: 1104.5088332183968 -- Residual:567.6532893045955\n",
      "\n",
      "Elapsed time: 0.2833399772644043 s\n"
     ]
    },
    {
     "data": {
      "text/plain": "<Figure size 432x288 with 0 Axes>"
     },
     "metadata": {},
     "output_type": "display_data"
    },
    {
     "name": "stdout",
     "output_type": "stream",
     "text": [
      "Loop9/100 Turbulence: 1104.7376374669325 -- Residual:507.17707205876064\n",
      "\n",
      "Elapsed time: 0.25409913063049316 s\n"
     ]
    },
    {
     "data": {
      "text/plain": "<Figure size 432x288 with 0 Axes>"
     },
     "metadata": {},
     "output_type": "display_data"
    },
    {
     "name": "stdout",
     "output_type": "stream",
     "text": [
      "Loop10/100 Turbulence: 1104.980251446478 -- Residual:452.8277958270081\n",
      "\n",
      "Elapsed time: 0.29274535179138184 s\n"
     ]
    },
    {
     "data": {
      "text/plain": "<Figure size 432x288 with 0 Axes>"
     },
     "metadata": {},
     "output_type": "display_data"
    },
    {
     "name": "stdout",
     "output_type": "stream",
     "text": [
      "Loop11/100 Turbulence: 1105.2372182567897 -- Residual:404.4881953706644\n",
      "\n",
      "Elapsed time: 0.2623789310455322 s\n"
     ]
    },
    {
     "data": {
      "text/plain": "<Figure size 432x288 with 0 Axes>"
     },
     "metadata": {},
     "output_type": "display_data"
    },
    {
     "name": "stdout",
     "output_type": "stream",
     "text": [
      "Loop12/100 Turbulence: 1105.5075797739328 -- Residual:361.26764377131803\n",
      "\n",
      "Elapsed time: 0.26899027824401855 s\n"
     ]
    },
    {
     "data": {
      "text/plain": "<Figure size 432x288 with 0 Axes>"
     },
     "metadata": {},
     "output_type": "display_data"
    },
    {
     "name": "stdout",
     "output_type": "stream",
     "text": [
      "Loop13/100 Turbulence: 1105.8371898881107 -- Residual:322.8744510691794\n",
      "\n",
      "Elapsed time: 0.2760145664215088 s\n"
     ]
    },
    {
     "data": {
      "text/plain": "<Figure size 432x288 with 0 Axes>"
     },
     "metadata": {},
     "output_type": "display_data"
    },
    {
     "name": "stdout",
     "output_type": "stream",
     "text": [
      "Loop14/100 Turbulence: 1106.1376751232442 -- Residual:288.9514171048024\n",
      "\n",
      "Elapsed time: 0.2788224220275879 s\n"
     ]
    },
    {
     "data": {
      "text/plain": "<Figure size 432x288 with 0 Axes>"
     },
     "metadata": {},
     "output_type": "display_data"
    },
    {
     "name": "stdout",
     "output_type": "stream",
     "text": [
      "Loop15/100 Turbulence: 1106.4453966320193 -- Residual:259.2598335348208\n",
      "\n",
      "Elapsed time: 0.27632951736450195 s\n"
     ]
    },
    {
     "data": {
      "text/plain": "<Figure size 432x288 with 0 Axes>"
     },
     "metadata": {},
     "output_type": "display_data"
    },
    {
     "name": "stdout",
     "output_type": "stream",
     "text": [
      "Loop16/100 Turbulence: 1106.7560271586901 -- Residual:233.6947685745458\n",
      "\n",
      "Elapsed time: 0.24692916870117188 s\n"
     ]
    },
    {
     "data": {
      "text/plain": "<Figure size 432x288 with 0 Axes>"
     },
     "metadata": {},
     "output_type": "display_data"
    },
    {
     "name": "stdout",
     "output_type": "stream",
     "text": [
      "Loop17/100 Turbulence: 1107.0644044212945 -- Residual:212.13253644280016\n",
      "\n",
      "Elapsed time: 0.2569708824157715 s\n"
     ]
    },
    {
     "data": {
      "text/plain": "<Figure size 432x288 with 0 Axes>"
     },
     "metadata": {},
     "output_type": "display_data"
    },
    {
     "name": "stdout",
     "output_type": "stream",
     "text": [
      "Loop18/100 Turbulence: 1107.3649226791279 -- Residual:194.35343394368113\n",
      "\n",
      "Elapsed time: 0.2511312961578369 s\n"
     ]
    },
    {
     "data": {
      "text/plain": "<Figure size 432x288 with 0 Axes>"
     },
     "metadata": {},
     "output_type": "display_data"
    },
    {
     "name": "stdout",
     "output_type": "stream",
     "text": [
      "Loop19/100 Turbulence: 1107.6508550665865 -- Residual:180.19113118080904\n",
      "\n",
      "Elapsed time: 0.29770803451538086 s\n"
     ]
    },
    {
     "data": {
      "text/plain": "<Figure size 432x288 with 0 Axes>"
     },
     "metadata": {},
     "output_type": "display_data"
    },
    {
     "name": "stdout",
     "output_type": "stream",
     "text": [
      "Loop20/100 Turbulence: 1107.9190512599032 -- Residual:169.61838776377024\n",
      "\n",
      "Elapsed time: 0.29408931732177734 s\n"
     ]
    },
    {
     "data": {
      "text/plain": "<Figure size 432x288 with 0 Axes>"
     },
     "metadata": {},
     "output_type": "display_data"
    },
    {
     "name": "stdout",
     "output_type": "stream",
     "text": [
      "Loop21/100 Turbulence: 1108.1339192145572 -- Residual:162.19881328354984\n",
      "\n",
      "Elapsed time: 0.2852160930633545 s\n"
     ]
    },
    {
     "data": {
      "text/plain": "<Figure size 432x288 with 0 Axes>"
     },
     "metadata": {},
     "output_type": "display_data"
    },
    {
     "name": "stdout",
     "output_type": "stream",
     "text": [
      "Loop22/100 Turbulence: 1108.3631798523586 -- Residual:157.07646207766498\n",
      "\n",
      "Elapsed time: 0.2768239974975586 s\n"
     ]
    },
    {
     "data": {
      "text/plain": "<Figure size 432x288 with 0 Axes>"
     },
     "metadata": {},
     "output_type": "display_data"
    },
    {
     "name": "stdout",
     "output_type": "stream",
     "text": [
      "Loop23/100 Turbulence: 1108.5787111237564 -- Residual:153.29056000263395\n",
      "\n",
      "Elapsed time: 0.2523181438446045 s\n"
     ]
    },
    {
     "data": {
      "text/plain": "<Figure size 432x288 with 0 Axes>"
     },
     "metadata": {},
     "output_type": "display_data"
    },
    {
     "name": "stdout",
     "output_type": "stream",
     "text": [
      "Loop24/100 Turbulence: 1108.7845110079784 -- Residual:150.3972526408778\n",
      "\n",
      "Elapsed time: 0.28954458236694336 s\n"
     ]
    },
    {
     "data": {
      "text/plain": "<Figure size 432x288 with 0 Axes>"
     },
     "metadata": {},
     "output_type": "display_data"
    },
    {
     "name": "stdout",
     "output_type": "stream",
     "text": [
      "Loop25/100 Turbulence: 1108.9841142962568 -- Residual:148.17350831978808\n",
      "\n",
      "Elapsed time: 0.28498363494873047 s\n"
     ]
    },
    {
     "data": {
      "text/plain": "<Figure size 432x288 with 0 Axes>"
     },
     "metadata": {},
     "output_type": "display_data"
    },
    {
     "name": "stdout",
     "output_type": "stream",
     "text": [
      "Loop26/100 Turbulence: 1109.1809274681634 -- Residual:146.48929995071794\n",
      "\n",
      "Elapsed time: 0.26238417625427246 s\n"
     ]
    },
    {
     "data": {
      "text/plain": "<Figure size 432x288 with 0 Axes>"
     },
     "metadata": {},
     "output_type": "display_data"
    },
    {
     "name": "stdout",
     "output_type": "stream",
     "text": [
      "Loop27/100 Turbulence: 1109.3778321723373 -- Residual:145.229328471151\n",
      "\n",
      "Elapsed time: 0.2572355270385742 s\n"
     ]
    },
    {
     "data": {
      "text/plain": "<Figure size 432x288 with 0 Axes>"
     },
     "metadata": {},
     "output_type": "display_data"
    },
    {
     "name": "stdout",
     "output_type": "stream",
     "text": [
      "Loop28/100 Turbulence: 1109.604351654245 -- Residual:144.28521648672046\n",
      "\n",
      "Elapsed time: 0.27769923210144043 s\n"
     ]
    },
    {
     "data": {
      "text/plain": "<Figure size 432x288 with 0 Axes>"
     },
     "metadata": {},
     "output_type": "display_data"
    },
    {
     "name": "stdout",
     "output_type": "stream",
     "text": [
      "Loop29/100 Turbulence: 1109.846340485047 -- Residual:143.61816791735777\n",
      "\n",
      "Elapsed time: 0.2554662227630615 s\n"
     ]
    },
    {
     "data": {
      "text/plain": "<Figure size 432x288 with 0 Axes>"
     },
     "metadata": {},
     "output_type": "display_data"
    },
    {
     "name": "stdout",
     "output_type": "stream",
     "text": [
      "Loop30/100 Turbulence: 1110.1034446627211 -- Residual:143.16457306273142\n",
      "\n",
      "Elapsed time: 0.261030912399292 s\n"
     ]
    },
    {
     "data": {
      "text/plain": "<Figure size 432x288 with 0 Axes>"
     },
     "metadata": {},
     "output_type": "display_data"
    },
    {
     "name": "stdout",
     "output_type": "stream",
     "text": [
      "Loop31/100 Turbulence: 1110.3772796078763 -- Residual:142.9032261577787\n",
      "\n",
      "Elapsed time: 0.2641146183013916 s\n"
     ]
    },
    {
     "data": {
      "text/plain": "<Figure size 432x288 with 0 Axes>"
     },
     "metadata": {},
     "output_type": "display_data"
    },
    {
     "name": "stdout",
     "output_type": "stream",
     "text": [
      "Loop32/100 Turbulence: 1110.6680834963684 -- Residual:142.7937040988857\n",
      "\n",
      "Elapsed time: 0.2706296443939209 s\n"
     ]
    },
    {
     "data": {
      "text/plain": "<Figure size 432x288 with 0 Axes>"
     },
     "metadata": {},
     "output_type": "display_data"
    },
    {
     "name": "stdout",
     "output_type": "stream",
     "text": [
      "Loop33/100 Turbulence: 1110.9753552335928 -- Residual:142.84224700136423\n",
      "\n",
      "Elapsed time: 0.2693662643432617 s\n"
     ]
    },
    {
     "data": {
      "text/plain": "<Figure size 432x288 with 0 Axes>"
     },
     "metadata": {},
     "output_type": "display_data"
    },
    {
     "name": "stdout",
     "output_type": "stream",
     "text": [
      "Loop34/100 Turbulence: 1111.297171355971 -- Residual:143.024953332605\n",
      "\n",
      "Elapsed time: 0.25635671615600586 s\n"
     ]
    },
    {
     "data": {
      "text/plain": "<Figure size 432x288 with 0 Axes>"
     },
     "metadata": {},
     "output_type": "display_data"
    },
    {
     "name": "stdout",
     "output_type": "stream",
     "text": [
      "Loop35/100 Turbulence: 1111.6304844451552 -- Residual:143.32614394454825\n",
      "\n",
      "Elapsed time: 0.2446761131286621 s\n"
     ]
    },
    {
     "data": {
      "text/plain": "<Figure size 432x288 with 0 Axes>"
     },
     "metadata": {},
     "output_type": "display_data"
    },
    {
     "name": "stdout",
     "output_type": "stream",
     "text": [
      "Loop36/100 Turbulence: 1111.9711148968179 -- Residual:143.73120170620098\n",
      "\n",
      "Elapsed time: 0.2684352397918701 s\n"
     ]
    },
    {
     "data": {
      "text/plain": "<Figure size 432x288 with 0 Axes>"
     },
     "metadata": {},
     "output_type": "display_data"
    },
    {
     "name": "stdout",
     "output_type": "stream",
     "text": [
      "Loop37/100 Turbulence: 1112.3143327971657 -- Residual:144.2117605373346\n",
      "\n",
      "Elapsed time: 0.27530479431152344 s\n"
     ]
    },
    {
     "data": {
      "text/plain": "<Figure size 432x288 with 0 Axes>"
     },
     "metadata": {},
     "output_type": "display_data"
    },
    {
     "name": "stdout",
     "output_type": "stream",
     "text": [
      "Loop38/100 Turbulence: 1112.6549491582823 -- Residual:144.72796982088127\n",
      "\n",
      "Elapsed time: 0.27277278900146484 s\n"
     ]
    },
    {
     "data": {
      "text/plain": "<Figure size 432x288 with 0 Axes>"
     },
     "metadata": {},
     "output_type": "display_data"
    },
    {
     "name": "stdout",
     "output_type": "stream",
     "text": [
      "Loop39/100 Turbulence: 1112.987888036977 -- Residual:145.24838964982976\n",
      "\n",
      "Elapsed time: 0.25692248344421387 s\n"
     ]
    },
    {
     "data": {
      "text/plain": "<Figure size 432x288 with 0 Axes>"
     },
     "metadata": {},
     "output_type": "display_data"
    },
    {
     "name": "stdout",
     "output_type": "stream",
     "text": [
      "Loop40/100 Turbulence: 1113.3104753548184 -- Residual:145.74023741593172\n",
      "\n",
      "Elapsed time: 0.25625109672546387 s\n"
     ]
    },
    {
     "data": {
      "text/plain": "<Figure size 432x288 with 0 Axes>"
     },
     "metadata": {},
     "output_type": "display_data"
    },
    {
     "name": "stdout",
     "output_type": "stream",
     "text": [
      "Loop41/100 Turbulence: 1113.6208295519039 -- Residual:146.1690890446556\n",
      "\n",
      "Elapsed time: 0.2623109817504883 s\n"
     ]
    },
    {
     "data": {
      "text/plain": "<Figure size 432x288 with 0 Axes>"
     },
     "metadata": {},
     "output_type": "display_data"
    },
    {
     "name": "stdout",
     "output_type": "stream",
     "text": [
      "Loop42/100 Turbulence: 1113.9658548812488 -- Residual:146.34947331019507\n",
      "\n",
      "Elapsed time: 0.2772083282470703 s\n"
     ]
    },
    {
     "data": {
      "text/plain": "<Figure size 432x288 with 0 Axes>"
     },
     "metadata": {},
     "output_type": "display_data"
    },
    {
     "name": "stdout",
     "output_type": "stream",
     "text": [
      "Loop43/100 Turbulence: 1114.2512195791187 -- Residual:146.5788827639085\n",
      "\n",
      "Elapsed time: 0.26323509216308594 s\n"
     ]
    },
    {
     "data": {
      "text/plain": "<Figure size 432x288 with 0 Axes>"
     },
     "metadata": {},
     "output_type": "display_data"
    },
    {
     "name": "stdout",
     "output_type": "stream",
     "text": [
      "Loop44/100 Turbulence: 1114.537061771834 -- Residual:146.7581129961899\n",
      "\n",
      "Elapsed time: 0.2728271484375 s\n"
     ]
    },
    {
     "data": {
      "text/plain": "<Figure size 432x288 with 0 Axes>"
     },
     "metadata": {},
     "output_type": "display_data"
    },
    {
     "name": "stdout",
     "output_type": "stream",
     "text": [
      "Loop45/100 Turbulence: 1114.818153214118 -- Residual:146.86106169257465\n",
      "\n",
      "Elapsed time: 0.2779808044433594 s\n"
     ]
    },
    {
     "data": {
      "text/plain": "<Figure size 432x288 with 0 Axes>"
     },
     "metadata": {},
     "output_type": "display_data"
    },
    {
     "name": "stdout",
     "output_type": "stream",
     "text": [
      "Loop46/100 Turbulence: 1115.09774905829 -- Residual:146.87341543802455\n",
      "\n",
      "Elapsed time: 0.26584458351135254 s\n"
     ]
    },
    {
     "data": {
      "text/plain": "<Figure size 432x288 with 0 Axes>"
     },
     "metadata": {},
     "output_type": "display_data"
    },
    {
     "name": "stdout",
     "output_type": "stream",
     "text": [
      "Loop47/100 Turbulence: 1115.3266848885546 -- Residual:146.939958473889\n",
      "\n",
      "Elapsed time: 0.2590293884277344 s\n"
     ]
    },
    {
     "data": {
      "text/plain": "<Figure size 432x288 with 0 Axes>"
     },
     "metadata": {},
     "output_type": "display_data"
    },
    {
     "name": "stdout",
     "output_type": "stream",
     "text": [
      "Loop48/100 Turbulence: 1115.60781796358 -- Residual:146.80469041723342\n",
      "\n",
      "Elapsed time: 0.25975799560546875 s\n"
     ]
    },
    {
     "data": {
      "text/plain": "<Figure size 432x288 with 0 Axes>"
     },
     "metadata": {},
     "output_type": "display_data"
    },
    {
     "name": "stdout",
     "output_type": "stream",
     "text": [
      "Loop49/100 Turbulence: 1115.8923487083637 -- Residual:146.5842743434854\n",
      "\n",
      "Elapsed time: 0.27608466148376465 s\n"
     ]
    },
    {
     "data": {
      "text/plain": "<Figure size 432x288 with 0 Axes>"
     },
     "metadata": {},
     "output_type": "display_data"
    },
    {
     "name": "stdout",
     "output_type": "stream",
     "text": [
      "Loop50/100 Turbulence: 1116.1797879983328 -- Residual:146.3899816082613\n",
      "\n",
      "Elapsed time: 0.25884580612182617 s\n"
     ]
    },
    {
     "data": {
      "text/plain": "<Figure size 432x288 with 0 Axes>"
     },
     "metadata": {},
     "output_type": "display_data"
    },
    {
     "name": "stdout",
     "output_type": "stream",
     "text": [
      "Loop51/100 Turbulence: 1116.4692888055465 -- Residual:146.24910099027124\n",
      "\n",
      "Elapsed time: 0.2749478816986084 s\n"
     ]
    },
    {
     "data": {
      "text/plain": "<Figure size 432x288 with 0 Axes>"
     },
     "metadata": {},
     "output_type": "display_data"
    },
    {
     "name": "stdout",
     "output_type": "stream",
     "text": [
      "Loop52/100 Turbulence: 1116.759693887251 -- Residual:146.16268397264403\n",
      "\n",
      "Elapsed time: 0.2774355411529541 s\n"
     ]
    },
    {
     "data": {
      "text/plain": "<Figure size 432x288 with 0 Axes>"
     },
     "metadata": {},
     "output_type": "display_data"
    },
    {
     "name": "stdout",
     "output_type": "stream",
     "text": [
      "Loop53/100 Turbulence: 1117.0701354830326 -- Residual:146.12696702630325\n",
      "\n",
      "Elapsed time: 0.28063488006591797 s\n"
     ]
    },
    {
     "data": {
      "text/plain": "<Figure size 432x288 with 0 Axes>"
     },
     "metadata": {},
     "output_type": "display_data"
    },
    {
     "name": "stdout",
     "output_type": "stream",
     "text": [
      "Loop54/100 Turbulence: 1117.3872290772829 -- Residual:146.12080526427124\n",
      "\n",
      "Elapsed time: 0.2606165409088135 s\n"
     ]
    },
    {
     "data": {
      "text/plain": "<Figure size 432x288 with 0 Axes>"
     },
     "metadata": {},
     "output_type": "display_data"
    },
    {
     "name": "stdout",
     "output_type": "stream",
     "text": [
      "Loop55/100 Turbulence: 1117.7079584254905 -- Residual:146.14965952267545\n",
      "\n",
      "Elapsed time: 0.26478147506713867 s\n"
     ]
    },
    {
     "data": {
      "text/plain": "<Figure size 432x288 with 0 Axes>"
     },
     "metadata": {},
     "output_type": "display_data"
    },
    {
     "name": "stdout",
     "output_type": "stream",
     "text": [
      "Loop56/100 Turbulence: 1118.0310181738405 -- Residual:146.17130352438326\n",
      "\n",
      "Elapsed time: 0.2647716999053955 s\n"
     ]
    },
    {
     "data": {
      "text/plain": "<Figure size 432x288 with 0 Axes>"
     },
     "metadata": {},
     "output_type": "display_data"
    },
    {
     "name": "stdout",
     "output_type": "stream",
     "text": [
      "Loop57/100 Turbulence: 1118.3544745691622 -- Residual:146.15907598483633\n",
      "\n",
      "Elapsed time: 0.2686460018157959 s\n"
     ]
    },
    {
     "data": {
      "text/plain": "<Figure size 432x288 with 0 Axes>"
     },
     "metadata": {},
     "output_type": "display_data"
    },
    {
     "name": "stdout",
     "output_type": "stream",
     "text": [
      "Loop58/100 Turbulence: 1118.6753795015895 -- Residual:146.06826548722918\n",
      "\n",
      "Elapsed time: 0.258880615234375 s\n"
     ]
    },
    {
     "data": {
      "text/plain": "<Figure size 432x288 with 0 Axes>"
     },
     "metadata": {},
     "output_type": "display_data"
    },
    {
     "name": "stdout",
     "output_type": "stream",
     "text": [
      "Loop59/100 Turbulence: 1118.9893046269544 -- Residual:145.86701181410905\n",
      "\n",
      "Elapsed time: 0.2493288516998291 s\n"
     ]
    },
    {
     "data": {
      "text/plain": "<Figure size 432x288 with 0 Axes>"
     },
     "metadata": {},
     "output_type": "display_data"
    },
    {
     "name": "stdout",
     "output_type": "stream",
     "text": [
      "Loop60/100 Turbulence: 1119.2992121554284 -- Residual:145.5409639293637\n",
      "\n",
      "Elapsed time: 0.2589850425720215 s\n"
     ]
    },
    {
     "data": {
      "text/plain": "<Figure size 432x288 with 0 Axes>"
     },
     "metadata": {},
     "output_type": "display_data"
    },
    {
     "name": "stdout",
     "output_type": "stream",
     "text": [
      "Loop61/100 Turbulence: 1119.6044908499878 -- Residual:145.08743561051207\n",
      "\n",
      "Elapsed time: 0.2833397388458252 s\n"
     ]
    },
    {
     "data": {
      "text/plain": "<Figure size 432x288 with 0 Axes>"
     },
     "metadata": {},
     "output_type": "display_data"
    },
    {
     "name": "stdout",
     "output_type": "stream",
     "text": [
      "Loop62/100 Turbulence: 1119.905964030128 -- Residual:144.5199838031744\n",
      "\n",
      "Elapsed time: 0.2959768772125244 s\n"
     ]
    },
    {
     "data": {
      "text/plain": "<Figure size 432x288 with 0 Axes>"
     },
     "metadata": {},
     "output_type": "display_data"
    },
    {
     "name": "stdout",
     "output_type": "stream",
     "text": [
      "Loop63/100 Turbulence: 1120.2187054466 -- Residual:143.84904325766962\n",
      "\n",
      "Elapsed time: 0.27092552185058594 s\n"
     ]
    },
    {
     "data": {
      "text/plain": "<Figure size 432x288 with 0 Axes>"
     },
     "metadata": {},
     "output_type": "display_data"
    },
    {
     "name": "stdout",
     "output_type": "stream",
     "text": [
      "Loop64/100 Turbulence: 1120.52104217618 -- Residual:143.144944383896\n",
      "\n",
      "Elapsed time: 0.2480928897857666 s\n"
     ]
    },
    {
     "data": {
      "text/plain": "<Figure size 432x288 with 0 Axes>"
     },
     "metadata": {},
     "output_type": "display_data"
    },
    {
     "name": "stdout",
     "output_type": "stream",
     "text": [
      "Loop65/100 Turbulence: 1120.8307972237546 -- Residual:142.47535616738398\n",
      "\n",
      "Elapsed time: 0.35010409355163574 s\n"
     ]
    },
    {
     "data": {
      "text/plain": "<Figure size 432x288 with 0 Axes>"
     },
     "metadata": {},
     "output_type": "display_data"
    },
    {
     "name": "stdout",
     "output_type": "stream",
     "text": [
      "Loop66/100 Turbulence: 1121.1530283471268 -- Residual:141.91511775443848\n",
      "\n",
      "Elapsed time: 0.29280924797058105 s\n"
     ]
    },
    {
     "data": {
      "text/plain": "<Figure size 432x288 with 0 Axes>"
     },
     "metadata": {},
     "output_type": "display_data"
    },
    {
     "name": "stdout",
     "output_type": "stream",
     "text": [
      "Loop67/100 Turbulence: 1121.491054423267 -- Residual:141.53903563438027\n",
      "\n",
      "Elapsed time: 0.28014183044433594 s\n"
     ]
    },
    {
     "data": {
      "text/plain": "<Figure size 432x288 with 0 Axes>"
     },
     "metadata": {},
     "output_type": "display_data"
    },
    {
     "name": "stdout",
     "output_type": "stream",
     "text": [
      "Loop68/100 Turbulence: 1121.8487890783192 -- Residual:141.40242166019084\n",
      "\n",
      "Elapsed time: 0.26970553398132324 s\n"
     ]
    },
    {
     "data": {
      "text/plain": "<Figure size 432x288 with 0 Axes>"
     },
     "metadata": {},
     "output_type": "display_data"
    },
    {
     "name": "stdout",
     "output_type": "stream",
     "text": [
      "Loop69/100 Turbulence: 1122.2282717847356 -- Residual:141.52791479940353\n",
      "\n",
      "Elapsed time: 0.30935072898864746 s\n"
     ]
    },
    {
     "data": {
      "text/plain": "<Figure size 432x288 with 0 Axes>"
     },
     "metadata": {},
     "output_type": "display_data"
    },
    {
     "name": "stdout",
     "output_type": "stream",
     "text": [
      "Loop70/100 Turbulence: 1122.6299268297278 -- Residual:141.90729318081247\n",
      "\n",
      "Elapsed time: 0.25635457038879395 s\n"
     ]
    },
    {
     "data": {
      "text/plain": "<Figure size 432x288 with 0 Axes>"
     },
     "metadata": {},
     "output_type": "display_data"
    },
    {
     "name": "stdout",
     "output_type": "stream",
     "text": [
      "Loop71/100 Turbulence: 1123.0529034441342 -- Residual:142.51190035363777\n",
      "\n",
      "Elapsed time: 0.3043651580810547 s\n"
     ]
    },
    {
     "data": {
      "text/plain": "<Figure size 432x288 with 0 Axes>"
     },
     "metadata": {},
     "output_type": "display_data"
    },
    {
     "name": "stdout",
     "output_type": "stream",
     "text": [
      "Loop72/100 Turbulence: 1123.4948985130677 -- Residual:143.28883856194798\n",
      "\n",
      "Elapsed time: 0.274794340133667 s\n"
     ]
    },
    {
     "data": {
      "text/plain": "<Figure size 432x288 with 0 Axes>"
     },
     "metadata": {},
     "output_type": "display_data"
    },
    {
     "name": "stdout",
     "output_type": "stream",
     "text": [
      "Loop73/100 Turbulence: 1123.9521715918354 -- Residual:144.14860493366012\n",
      "\n",
      "Elapsed time: 0.27533960342407227 s\n"
     ]
    },
    {
     "data": {
      "text/plain": "<Figure size 432x288 with 0 Axes>"
     },
     "metadata": {},
     "output_type": "display_data"
    },
    {
     "name": "stdout",
     "output_type": "stream",
     "text": [
      "Loop74/100 Turbulence: 1124.4197142100777 -- Residual:145.01773232353167\n",
      "\n",
      "Elapsed time: 0.39847517013549805 s\n"
     ]
    },
    {
     "data": {
      "text/plain": "<Figure size 432x288 with 0 Axes>"
     },
     "metadata": {},
     "output_type": "display_data"
    },
    {
     "name": "stdout",
     "output_type": "stream",
     "text": [
      "Loop75/100 Turbulence: 1124.891415271394 -- Residual:145.83758431907387\n",
      "\n",
      "Elapsed time: 0.2927887439727783 s\n"
     ]
    },
    {
     "data": {
      "text/plain": "<Figure size 432x288 with 0 Axes>"
     },
     "metadata": {},
     "output_type": "display_data"
    },
    {
     "name": "stdout",
     "output_type": "stream",
     "text": [
      "Loop76/100 Turbulence: 1125.360247961095 -- Residual:146.5242522806806\n",
      "\n",
      "Elapsed time: 0.2531430721282959 s\n"
     ]
    },
    {
     "data": {
      "text/plain": "<Figure size 432x288 with 0 Axes>"
     },
     "metadata": {},
     "output_type": "display_data"
    },
    {
     "name": "stdout",
     "output_type": "stream",
     "text": [
      "Loop77/100 Turbulence: 1125.8739215760659 -- Residual:147.05976828727256\n",
      "\n",
      "Elapsed time: 0.28086137771606445 s\n"
     ]
    },
    {
     "data": {
      "text/plain": "<Figure size 432x288 with 0 Axes>"
     },
     "metadata": {},
     "output_type": "display_data"
    },
    {
     "name": "stdout",
     "output_type": "stream",
     "text": [
      "Loop78/100 Turbulence: 1126.3381583855837 -- Residual:147.38372751758416\n",
      "\n",
      "Elapsed time: 0.25797533988952637 s\n"
     ]
    },
    {
     "data": {
      "text/plain": "<Figure size 432x288 with 0 Axes>"
     },
     "metadata": {},
     "output_type": "display_data"
    },
    {
     "name": "stdout",
     "output_type": "stream",
     "text": [
      "Loop79/100 Turbulence: 1126.7788884629583 -- Residual:147.43552134095512\n",
      "\n",
      "Elapsed time: 0.26694273948669434 s\n"
     ]
    },
    {
     "data": {
      "text/plain": "<Figure size 432x288 with 0 Axes>"
     },
     "metadata": {},
     "output_type": "display_data"
    },
    {
     "name": "stdout",
     "output_type": "stream",
     "text": [
      "Loop80/100 Turbulence: 1127.2014181588688 -- Residual:147.27739139120825\n",
      "\n",
      "Elapsed time: 0.26769208908081055 s\n"
     ]
    },
    {
     "data": {
      "text/plain": "<Figure size 432x288 with 0 Axes>"
     },
     "metadata": {},
     "output_type": "display_data"
    },
    {
     "name": "stdout",
     "output_type": "stream",
     "text": [
      "Loop81/100 Turbulence: 1127.605144895163 -- Residual:146.90956740325626\n",
      "\n",
      "Elapsed time: 0.2689957618713379 s\n"
     ]
    },
    {
     "data": {
      "text/plain": "<Figure size 432x288 with 0 Axes>"
     },
     "metadata": {},
     "output_type": "display_data"
    },
    {
     "name": "stdout",
     "output_type": "stream",
     "text": [
      "Loop82/100 Turbulence: 1127.996701271007 -- Residual:146.32959204326167\n",
      "\n",
      "Elapsed time: 0.258098840713501 s\n"
     ]
    },
    {
     "data": {
      "text/plain": "<Figure size 432x288 with 0 Axes>"
     },
     "metadata": {},
     "output_type": "display_data"
    },
    {
     "name": "stdout",
     "output_type": "stream",
     "text": [
      "Loop83/100 Turbulence: 1128.3745648321196 -- Residual:145.54234125745262\n",
      "\n",
      "Elapsed time: 0.27840495109558105 s\n"
     ]
    },
    {
     "data": {
      "text/plain": "<Figure size 432x288 with 0 Axes>"
     },
     "metadata": {},
     "output_type": "display_data"
    },
    {
     "name": "stdout",
     "output_type": "stream",
     "text": [
      "Loop84/100 Turbulence: 1128.7128362418798 -- Residual:144.5825382505167\n",
      "\n",
      "Elapsed time: 0.24976444244384766 s\n"
     ]
    },
    {
     "data": {
      "text/plain": "<Figure size 432x288 with 0 Axes>"
     },
     "metadata": {},
     "output_type": "display_data"
    },
    {
     "name": "stdout",
     "output_type": "stream",
     "text": [
      "Loop85/100 Turbulence: 1129.0763526728272 -- Residual:143.48003000610393\n",
      "\n",
      "Elapsed time: 0.2828695774078369 s\n"
     ]
    },
    {
     "data": {
      "text/plain": "<Figure size 432x288 with 0 Axes>"
     },
     "metadata": {},
     "output_type": "display_data"
    },
    {
     "name": "stdout",
     "output_type": "stream",
     "text": [
      "Loop86/100 Turbulence: 1129.4424022932242 -- Residual:142.2780408781816\n",
      "\n",
      "Elapsed time: 0.24631452560424805 s\n"
     ]
    },
    {
     "data": {
      "text/plain": "<Figure size 432x288 with 0 Axes>"
     },
     "metadata": {},
     "output_type": "display_data"
    },
    {
     "name": "stdout",
     "output_type": "stream",
     "text": [
      "Loop87/100 Turbulence: 1129.8172063419331 -- Residual:141.05640806562386\n",
      "\n",
      "Elapsed time: 0.2718930244445801 s\n"
     ]
    },
    {
     "data": {
      "text/plain": "<Figure size 432x288 with 0 Axes>"
     },
     "metadata": {},
     "output_type": "display_data"
    },
    {
     "name": "stdout",
     "output_type": "stream",
     "text": [
      "Loop88/100 Turbulence: 1130.206101711458 -- Residual:139.88553491275437\n",
      "\n",
      "Elapsed time: 0.27907252311706543 s\n"
     ]
    },
    {
     "data": {
      "text/plain": "<Figure size 432x288 with 0 Axes>"
     },
     "metadata": {},
     "output_type": "display_data"
    },
    {
     "name": "stdout",
     "output_type": "stream",
     "text": [
      "Loop89/100 Turbulence: 1130.6133889205234 -- Residual:138.8408858181283\n",
      "\n",
      "Elapsed time: 0.2730731964111328 s\n"
     ]
    },
    {
     "data": {
      "text/plain": "<Figure size 432x288 with 0 Axes>"
     },
     "metadata": {},
     "output_type": "display_data"
    },
    {
     "name": "stdout",
     "output_type": "stream",
     "text": [
      "Loop90/100 Turbulence: 1131.0421835613354 -- Residual:137.98402768229374\n",
      "\n",
      "Elapsed time: 0.2570796012878418 s\n"
     ]
    },
    {
     "data": {
      "text/plain": "<Figure size 432x288 with 0 Axes>"
     },
     "metadata": {},
     "output_type": "display_data"
    },
    {
     "name": "stdout",
     "output_type": "stream",
     "text": [
      "Loop91/100 Turbulence: 1131.4943752952545 -- Residual:137.36258631705473\n",
      "\n",
      "Elapsed time: 0.2659134864807129 s\n"
     ]
    },
    {
     "data": {
      "text/plain": "<Figure size 432x288 with 0 Axes>"
     },
     "metadata": {},
     "output_type": "display_data"
    },
    {
     "name": "stdout",
     "output_type": "stream",
     "text": [
      "Loop92/100 Turbulence: 1131.9705760116221 -- Residual:137.0082844507996\n",
      "\n",
      "Elapsed time: 0.2508730888366699 s\n"
     ]
    },
    {
     "data": {
      "text/plain": "<Figure size 432x288 with 0 Axes>"
     },
     "metadata": {},
     "output_type": "display_data"
    },
    {
     "name": "stdout",
     "output_type": "stream",
     "text": [
      "Loop93/100 Turbulence: 1132.47010293365 -- Residual:136.91174803472097\n",
      "\n",
      "Elapsed time: 0.2590210437774658 s\n"
     ]
    },
    {
     "data": {
      "text/plain": "<Figure size 432x288 with 0 Axes>"
     },
     "metadata": {},
     "output_type": "display_data"
    },
    {
     "name": "stdout",
     "output_type": "stream",
     "text": [
      "Loop94/100 Turbulence: 1132.9910841963433 -- Residual:137.06997522631792\n",
      "\n",
      "Elapsed time: 0.2828190326690674 s\n"
     ]
    },
    {
     "data": {
      "text/plain": "<Figure size 432x288 with 0 Axes>"
     },
     "metadata": {},
     "output_type": "display_data"
    },
    {
     "name": "stdout",
     "output_type": "stream",
     "text": [
      "Loop95/100 Turbulence: 1133.530087567284 -- Residual:137.45797401318168\n",
      "\n",
      "Elapsed time: 0.2927405834197998 s\n"
     ]
    },
    {
     "data": {
      "text/plain": "<Figure size 432x288 with 0 Axes>"
     },
     "metadata": {},
     "output_type": "display_data"
    },
    {
     "name": "stdout",
     "output_type": "stream",
     "text": [
      "Loop96/100 Turbulence: 1134.0825867271587 -- Residual:138.03514959057165\n",
      "\n",
      "Elapsed time: 0.2589297294616699 s\n"
     ]
    },
    {
     "data": {
      "text/plain": "<Figure size 432x288 with 0 Axes>"
     },
     "metadata": {},
     "output_type": "display_data"
    },
    {
     "name": "stdout",
     "output_type": "stream",
     "text": [
      "Loop97/100 Turbulence: 1134.6440564220648 -- Residual:138.76097594742026\n",
      "\n",
      "Elapsed time: 0.27609968185424805 s\n"
     ]
    },
    {
     "data": {
      "text/plain": "<Figure size 432x288 with 0 Axes>"
     },
     "metadata": {},
     "output_type": "display_data"
    },
    {
     "name": "stdout",
     "output_type": "stream",
     "text": [
      "Loop98/100 Turbulence: 1135.2081751565752 -- Residual:139.5800346184778\n",
      "\n",
      "Elapsed time: 0.27697062492370605 s\n"
     ]
    },
    {
     "data": {
      "text/plain": "<Figure size 432x288 with 0 Axes>"
     },
     "metadata": {},
     "output_type": "display_data"
    },
    {
     "name": "stdout",
     "output_type": "stream",
     "text": [
      "Loop99/100 Turbulence: 1135.7659708400352 -- Residual:140.43218719436155\n",
      "\n"
     ]
    }
   ],
   "source": [
    "\n",
    "# These are the calibration data used to close the loop\n",
    "calib_CL    = I_mat_modulated_inv\n",
    "M2C_CL      = M2C_KL\n",
    "\n",
    "wfs.cam.photonNoise = True\n",
    "param['nLoop'] =100\n",
    "plt.close('all')\n",
    "\n",
    "# combine telescope with atmosphere\n",
    "tel+atm\n",
    "\n",
    "# initialize DM commands\n",
    "dm.coefs=0\n",
    "ngs*tel*dm*wfs\n",
    "\n",
    "plt.ion()\n",
    "# setup the display\n",
    "fig         = plt.figure(79)\n",
    "ax1         = plt.subplot(2,3,1)\n",
    "im_atm      = ax1.imshow(tel.src.phase)\n",
    "plt.colorbar(im_atm)\n",
    "plt.title('Turbulence phase [rad]')\n",
    "\n",
    "ax2         = plt.subplot(2,3,2)\n",
    "im_dm       = ax2.imshow(dm.OPD*tel.pupil)\n",
    "plt.colorbar(im_dm)\n",
    "plt.title('DM phase [rad]')\n",
    "tel.computePSF(zeroPaddingFactor=6)\n",
    "\n",
    "ax4         = plt.subplot(2,3,3)\n",
    "im_PSF_OL   = ax4.imshow(tel.PSF)\n",
    "plt.colorbar(im_PSF_OL)\n",
    "plt.title('OL PSF')\n",
    "\n",
    "\n",
    "ax3         = plt.subplot(2,3,5)\n",
    "im_residual = ax3.imshow(tel.src.phase)\n",
    "plt.colorbar(im_residual)\n",
    "plt.title('Residual phase [rad]')\n",
    "\n",
    "ax5         = plt.subplot(2,3,4)\n",
    "im_wfs_CL   = ax5.imshow(wfs.cam.frame)\n",
    "plt.colorbar(im_wfs_CL)\n",
    "plt.title('Pyramid Frame CL')\n",
    "\n",
    "ax6         = plt.subplot(2,3,6)\n",
    "im_PSF      = ax6.imshow(tel.PSF)\n",
    "plt.colorbar(im_PSF)\n",
    "plt.title('CL PSF')\n",
    "\n",
    "plt.show()\n",
    "\n",
    "# allocate memory to save data\n",
    "SR                      = np.zeros(param['nLoop'])\n",
    "total                   = np.zeros(param['nLoop'])\n",
    "residual                = np.zeros(param['nLoop'])\n",
    "wfsSignal               = np.arange(0,wfs.nSignal)*0\n",
    "\n",
    "# loop parameters\n",
    "gainCL                  = 0.6\n",
    "wfs.cam.photonNoise     = True\n",
    "display                 = True\n",
    "\n",
    "for i in range(param['nLoop']):\n",
    "    a=time.time()\n",
    "    # update phase screens => overwrite tel.OPD and consequently tel.src.phase\n",
    "    atm.update()\n",
    "     # save phase variance\n",
    "    total[i]=np.std(tel.OPD[np.where(tel.pupil>0)])*1e9\n",
    "     # save turbulent phase\n",
    "    turbPhase = tel.src.phase\n",
    "    if display == True:\n",
    "           # compute the OL PSF and update the display\n",
    "       tel.computePSF(zeroPaddingFactor=6)\n",
    "       im_PSF_OL.set_data(np.log(tel.PSF/tel.PSF.max()))\n",
    "       im_PSF_OL.set_clim(vmin=-3,vmax=0)\n",
    "\n",
    "     # propagate to the WFS with the CL commands applied\n",
    "    tel*dm*wfs\n",
    "\n",
    "     # save the DM OPD shape\n",
    "    dmOPD=tel.pupil*dm.OPD*2*np.pi/ngs.wavelength\n",
    "\n",
    "    dm.coefs=dm.coefs-gainCL*M2C_CL@calib_CL@wfsSignal\n",
    "     # store the slopes after computing the commands => 2 frames delay\n",
    "    wfsSignal=wfs.pyramidSignal\n",
    "    b= time.time()\n",
    "    print('Elapsed time: ' + str(b-a) +' s')\n",
    "    # update displays if required\n",
    "    if display==True:\n",
    "\n",
    "       # Turbulence\n",
    "       im_atm.set_data(turbPhase)\n",
    "       im_atm.set_clim(vmin=turbPhase.min(),vmax=turbPhase.max())\n",
    "       # WFS frame\n",
    "       C=wfs.cam.frame\n",
    "       im_wfs_CL.set_data(C)\n",
    "       im_wfs_CL.set_clim(vmin=C.min(),vmax=C.max())\n",
    "       # DM OPD\n",
    "       im_dm.set_data(dmOPD)\n",
    "       im_dm.set_clim(vmin=dmOPD.min(),vmax=dmOPD.max())\n",
    "\n",
    "       # residual phase\n",
    "       D=tel.src.phase\n",
    "       D=D-np.mean(D[tel.pupil])\n",
    "       im_residual.set_data(D)\n",
    "       im_residual.set_clim(vmin=D.min(),vmax=D.max())\n",
    "\n",
    "       tel.computePSF(zeroPaddingFactor=6)\n",
    "       im_PSF.set_data(np.log(tel.PSF/tel.PSF.max()))\n",
    "       im_PSF.set_clim(vmin=-4,vmax=0)\n",
    "       plt.draw()\n",
    "       plt.show()\n",
    "       plt.pause(0.001)\n",
    "\n",
    "\n",
    "    SR[i]=np.exp(-np.var(tel.src.phase[np.where(tel.pupil==1)]))\n",
    "    residual[i]=np.std(tel.OPD[np.where(tel.pupil>0)])*1e9\n",
    "    OPD=tel.OPD[np.where(tel.pupil>0)]\n",
    "\n",
    "    print('Loop'+str(i)+'/'+str(param['nLoop'])+' Turbulence: '+str(total[i])+' -- Residual:' +str(residual[i])+ '\\n')\n"
   ],
   "metadata": {
    "collapsed": false,
    "ExecuteTime": {
     "end_time": "2023-11-23T20:18:03.844934583Z",
     "start_time": "2023-11-23T20:17:25.031306383Z"
    }
   }
  },
  {
   "cell_type": "code",
   "execution_count": 14,
   "outputs": [
    {
     "data": {
      "text/plain": "<Figure size 432x288 with 1 Axes>",
      "image/png": "[encoded data removed]"
     },
     "metadata": {
      "needs_background": "light"
     },
     "output_type": "display_data"
    }
   ],
   "source": [
    "plt.figure()\n",
    "plt.plot(total)\n",
    "plt.plot(residual)\n",
    "plt.xlabel('Time [ms]')\n",
    "plt.ylabel('WFE [nm]')\n",
    "\n",
    "plt.pause(10)\n"
   ],
   "metadata": {
    "collapsed": false,
    "ExecuteTime": {
     "end_time": "2023-11-23T20:18:22.160752616Z",
     "start_time": "2023-11-23T20:18:11.949571219Z"
    }
   }
  },
  {
   "cell_type": "code",
   "execution_count": null,
   "outputs": [],
   "source": [],
   "metadata": {
    "collapsed": false
   }
  }
 ],
 "metadata": {
  "kernelspec": {
   "display_name": "Python 3",
   "language": "python",
   "name": "python3"
  },
  "language_info": {
   "codemirror_mode": {
    "name": "ipython",
    "version": 2
   },
   "file_extension": ".py",
   "mimetype": "text/x-python",
   "name": "python",
   "nbconvert_exporter": "python",
   "pygments_lexer": "ipython2",
   "version": "2.7.6"
  }
 },
 "nbformat": 4,
 "nbformat_minor": 0
}
